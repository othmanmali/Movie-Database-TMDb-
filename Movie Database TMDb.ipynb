{
 "cells": [
  {
   "cell_type": "markdown",
   "id": "43a3c2f2",
   "metadata": {},
   "source": [
    "# Project: Investigate Dataset of TMDb Movies\n",
    "## Table of Contents:\n",
    "1. Introduction\n",
    "2. Data Wrangling\n",
    "3. Exploratory Data Analysis\n",
    "4. Conclusion"
   ]
  },
  {
   "cell_type": "markdown",
   "id": "df25437f",
   "metadata": {},
   "source": [
    "## 1. Introduction:\n",
    "This data set contains information about 10,000 movies collected from The Movie Database (TMDb), including user ratings and revenue.\n",
    "\n",
    " * Certain columns, like ‘cast’ and ‘genres’, contain multiple values separated by pipe (|)\n",
    "characters.\n",
    "\n",
    " * There are some odd characters in the ‘cast’ column. Don’t worry about cleaning them. You can leave them as is.\n",
    "\n",
    " * The final two columns ending with “_adj” show the budget and revenue of the associated movie in terms of 2010 dollars, accounting for inflation over time."
   ]
  },
  {
   "cell_type": "markdown",
   "id": "00e7f811",
   "metadata": {},
   "source": [
    "### Question that will be covered in EDA Section:\n",
    "    Reseach Question 1: What are the properites associated with high revenue?\n",
    "    Reseach Question 2: What about the time effect on data? \n",
    "    Reseach Question 3: What are the properites associated with high votes?"
   ]
  },
  {
   "cell_type": "code",
   "execution_count": 427,
   "id": "a4f90361",
   "metadata": {},
   "outputs": [],
   "source": [
    "import numpy as np\n",
    "import pandas as pd\n",
    "%matplotlib inline\n",
    "import matplotlib.pyplot as plt"
   ]
  },
  {
   "cell_type": "code",
   "execution_count": 428,
   "id": "dcda79b6",
   "metadata": {
    "scrolled": true
   },
   "outputs": [
    {
     "data": {
      "text/html": [
       "<div>\n",
       "<style scoped>\n",
       "    .dataframe tbody tr th:only-of-type {\n",
       "        vertical-align: middle;\n",
       "    }\n",
       "\n",
       "    .dataframe tbody tr th {\n",
       "        vertical-align: top;\n",
       "    }\n",
       "\n",
       "    .dataframe thead th {\n",
       "        text-align: right;\n",
       "    }\n",
       "</style>\n",
       "<table border=\"1\" class=\"dataframe\">\n",
       "  <thead>\n",
       "    <tr style=\"text-align: right;\">\n",
       "      <th></th>\n",
       "      <th>id</th>\n",
       "      <th>imdb_id</th>\n",
       "      <th>popularity</th>\n",
       "      <th>budget</th>\n",
       "      <th>revenue</th>\n",
       "      <th>original_title</th>\n",
       "      <th>cast</th>\n",
       "      <th>homepage</th>\n",
       "      <th>director</th>\n",
       "      <th>tagline</th>\n",
       "      <th>...</th>\n",
       "      <th>overview</th>\n",
       "      <th>runtime</th>\n",
       "      <th>genres</th>\n",
       "      <th>production_companies</th>\n",
       "      <th>release_date</th>\n",
       "      <th>vote_count</th>\n",
       "      <th>vote_average</th>\n",
       "      <th>release_year</th>\n",
       "      <th>budget_adj</th>\n",
       "      <th>revenue_adj</th>\n",
       "    </tr>\n",
       "  </thead>\n",
       "  <tbody>\n",
       "    <tr>\n",
       "      <th>0</th>\n",
       "      <td>135397</td>\n",
       "      <td>tt0369610</td>\n",
       "      <td>32.985763</td>\n",
       "      <td>150000000</td>\n",
       "      <td>1513528810</td>\n",
       "      <td>Jurassic World</td>\n",
       "      <td>Chris Pratt|Bryce Dallas Howard|Irrfan Khan|Vi...</td>\n",
       "      <td>http://www.jurassicworld.com/</td>\n",
       "      <td>Colin Trevorrow</td>\n",
       "      <td>The park is open.</td>\n",
       "      <td>...</td>\n",
       "      <td>Twenty-two years after the events of Jurassic ...</td>\n",
       "      <td>124</td>\n",
       "      <td>Action|Adventure|Science Fiction|Thriller</td>\n",
       "      <td>Universal Studios|Amblin Entertainment|Legenda...</td>\n",
       "      <td>6/9/15</td>\n",
       "      <td>5562</td>\n",
       "      <td>6.5</td>\n",
       "      <td>2015</td>\n",
       "      <td>1.379999e+08</td>\n",
       "      <td>1.392446e+09</td>\n",
       "    </tr>\n",
       "    <tr>\n",
       "      <th>1</th>\n",
       "      <td>76341</td>\n",
       "      <td>tt1392190</td>\n",
       "      <td>28.419936</td>\n",
       "      <td>150000000</td>\n",
       "      <td>378436354</td>\n",
       "      <td>Mad Max: Fury Road</td>\n",
       "      <td>Tom Hardy|Charlize Theron|Hugh Keays-Byrne|Nic...</td>\n",
       "      <td>http://www.madmaxmovie.com/</td>\n",
       "      <td>George Miller</td>\n",
       "      <td>What a Lovely Day.</td>\n",
       "      <td>...</td>\n",
       "      <td>An apocalyptic story set in the furthest reach...</td>\n",
       "      <td>120</td>\n",
       "      <td>Action|Adventure|Science Fiction|Thriller</td>\n",
       "      <td>Village Roadshow Pictures|Kennedy Miller Produ...</td>\n",
       "      <td>5/13/15</td>\n",
       "      <td>6185</td>\n",
       "      <td>7.1</td>\n",
       "      <td>2015</td>\n",
       "      <td>1.379999e+08</td>\n",
       "      <td>3.481613e+08</td>\n",
       "    </tr>\n",
       "    <tr>\n",
       "      <th>2</th>\n",
       "      <td>262500</td>\n",
       "      <td>tt2908446</td>\n",
       "      <td>13.112507</td>\n",
       "      <td>110000000</td>\n",
       "      <td>295238201</td>\n",
       "      <td>Insurgent</td>\n",
       "      <td>Shailene Woodley|Theo James|Kate Winslet|Ansel...</td>\n",
       "      <td>http://www.thedivergentseries.movie/#insurgent</td>\n",
       "      <td>Robert Schwentke</td>\n",
       "      <td>One Choice Can Destroy You</td>\n",
       "      <td>...</td>\n",
       "      <td>Beatrice Prior must confront her inner demons ...</td>\n",
       "      <td>119</td>\n",
       "      <td>Adventure|Science Fiction|Thriller</td>\n",
       "      <td>Summit Entertainment|Mandeville Films|Red Wago...</td>\n",
       "      <td>3/18/15</td>\n",
       "      <td>2480</td>\n",
       "      <td>6.3</td>\n",
       "      <td>2015</td>\n",
       "      <td>1.012000e+08</td>\n",
       "      <td>2.716190e+08</td>\n",
       "    </tr>\n",
       "    <tr>\n",
       "      <th>3</th>\n",
       "      <td>140607</td>\n",
       "      <td>tt2488496</td>\n",
       "      <td>11.173104</td>\n",
       "      <td>200000000</td>\n",
       "      <td>2068178225</td>\n",
       "      <td>Star Wars: The Force Awakens</td>\n",
       "      <td>Harrison Ford|Mark Hamill|Carrie Fisher|Adam D...</td>\n",
       "      <td>http://www.starwars.com/films/star-wars-episod...</td>\n",
       "      <td>J.J. Abrams</td>\n",
       "      <td>Every generation has a story.</td>\n",
       "      <td>...</td>\n",
       "      <td>Thirty years after defeating the Galactic Empi...</td>\n",
       "      <td>136</td>\n",
       "      <td>Action|Adventure|Science Fiction|Fantasy</td>\n",
       "      <td>Lucasfilm|Truenorth Productions|Bad Robot</td>\n",
       "      <td>12/15/15</td>\n",
       "      <td>5292</td>\n",
       "      <td>7.5</td>\n",
       "      <td>2015</td>\n",
       "      <td>1.839999e+08</td>\n",
       "      <td>1.902723e+09</td>\n",
       "    </tr>\n",
       "    <tr>\n",
       "      <th>4</th>\n",
       "      <td>168259</td>\n",
       "      <td>tt2820852</td>\n",
       "      <td>9.335014</td>\n",
       "      <td>190000000</td>\n",
       "      <td>1506249360</td>\n",
       "      <td>Furious 7</td>\n",
       "      <td>Vin Diesel|Paul Walker|Jason Statham|Michelle ...</td>\n",
       "      <td>http://www.furious7.com/</td>\n",
       "      <td>James Wan</td>\n",
       "      <td>Vengeance Hits Home</td>\n",
       "      <td>...</td>\n",
       "      <td>Deckard Shaw seeks revenge against Dominic Tor...</td>\n",
       "      <td>137</td>\n",
       "      <td>Action|Crime|Thriller</td>\n",
       "      <td>Universal Pictures|Original Film|Media Rights ...</td>\n",
       "      <td>4/1/15</td>\n",
       "      <td>2947</td>\n",
       "      <td>7.3</td>\n",
       "      <td>2015</td>\n",
       "      <td>1.747999e+08</td>\n",
       "      <td>1.385749e+09</td>\n",
       "    </tr>\n",
       "  </tbody>\n",
       "</table>\n",
       "<p>5 rows × 21 columns</p>\n",
       "</div>"
      ],
      "text/plain": [
       "       id    imdb_id  popularity     budget     revenue  \\\n",
       "0  135397  tt0369610   32.985763  150000000  1513528810   \n",
       "1   76341  tt1392190   28.419936  150000000   378436354   \n",
       "2  262500  tt2908446   13.112507  110000000   295238201   \n",
       "3  140607  tt2488496   11.173104  200000000  2068178225   \n",
       "4  168259  tt2820852    9.335014  190000000  1506249360   \n",
       "\n",
       "                 original_title  \\\n",
       "0                Jurassic World   \n",
       "1            Mad Max: Fury Road   \n",
       "2                     Insurgent   \n",
       "3  Star Wars: The Force Awakens   \n",
       "4                     Furious 7   \n",
       "\n",
       "                                                cast  \\\n",
       "0  Chris Pratt|Bryce Dallas Howard|Irrfan Khan|Vi...   \n",
       "1  Tom Hardy|Charlize Theron|Hugh Keays-Byrne|Nic...   \n",
       "2  Shailene Woodley|Theo James|Kate Winslet|Ansel...   \n",
       "3  Harrison Ford|Mark Hamill|Carrie Fisher|Adam D...   \n",
       "4  Vin Diesel|Paul Walker|Jason Statham|Michelle ...   \n",
       "\n",
       "                                            homepage          director  \\\n",
       "0                      http://www.jurassicworld.com/   Colin Trevorrow   \n",
       "1                        http://www.madmaxmovie.com/     George Miller   \n",
       "2     http://www.thedivergentseries.movie/#insurgent  Robert Schwentke   \n",
       "3  http://www.starwars.com/films/star-wars-episod...       J.J. Abrams   \n",
       "4                           http://www.furious7.com/         James Wan   \n",
       "\n",
       "                         tagline  ...  \\\n",
       "0              The park is open.  ...   \n",
       "1             What a Lovely Day.  ...   \n",
       "2     One Choice Can Destroy You  ...   \n",
       "3  Every generation has a story.  ...   \n",
       "4            Vengeance Hits Home  ...   \n",
       "\n",
       "                                            overview runtime  \\\n",
       "0  Twenty-two years after the events of Jurassic ...     124   \n",
       "1  An apocalyptic story set in the furthest reach...     120   \n",
       "2  Beatrice Prior must confront her inner demons ...     119   \n",
       "3  Thirty years after defeating the Galactic Empi...     136   \n",
       "4  Deckard Shaw seeks revenge against Dominic Tor...     137   \n",
       "\n",
       "                                      genres  \\\n",
       "0  Action|Adventure|Science Fiction|Thriller   \n",
       "1  Action|Adventure|Science Fiction|Thriller   \n",
       "2         Adventure|Science Fiction|Thriller   \n",
       "3   Action|Adventure|Science Fiction|Fantasy   \n",
       "4                      Action|Crime|Thriller   \n",
       "\n",
       "                                production_companies release_date vote_count  \\\n",
       "0  Universal Studios|Amblin Entertainment|Legenda...       6/9/15       5562   \n",
       "1  Village Roadshow Pictures|Kennedy Miller Produ...      5/13/15       6185   \n",
       "2  Summit Entertainment|Mandeville Films|Red Wago...      3/18/15       2480   \n",
       "3          Lucasfilm|Truenorth Productions|Bad Robot     12/15/15       5292   \n",
       "4  Universal Pictures|Original Film|Media Rights ...       4/1/15       2947   \n",
       "\n",
       "   vote_average  release_year    budget_adj   revenue_adj  \n",
       "0           6.5          2015  1.379999e+08  1.392446e+09  \n",
       "1           7.1          2015  1.379999e+08  3.481613e+08  \n",
       "2           6.3          2015  1.012000e+08  2.716190e+08  \n",
       "3           7.5          2015  1.839999e+08  1.902723e+09  \n",
       "4           7.3          2015  1.747999e+08  1.385749e+09  \n",
       "\n",
       "[5 rows x 21 columns]"
      ]
     },
     "execution_count": 428,
     "metadata": {},
     "output_type": "execute_result"
    }
   ],
   "source": [
    "df = pd.read_csv('tmdb-movies.csv')\n",
    "df.head()"
   ]
  },
  {
   "cell_type": "markdown",
   "id": "9eff967b",
   "metadata": {},
   "source": [
    "# Data Wrangling:"
   ]
  },
  {
   "cell_type": "markdown",
   "id": "b88d4ccf",
   "metadata": {},
   "source": [
    "## 1. Drop the unuseful columns\n",
    "(id , imdb_id, budget, revenue, homepage, tagline, keywords, overview, production_companies)\n",
    "\n",
    "Note: budget_adj and revenue_adj show the budget and revenue of the associated movie in terms of 2010 dollars values, accounting for inflation over time. (Normalization Process)\n",
    "This tells us that there is no need of budget and revenue column"
   ]
  },
  {
   "cell_type": "code",
   "execution_count": 429,
   "id": "095d14ce",
   "metadata": {},
   "outputs": [],
   "source": [
    "drop_col = ['id', 'imdb_id', 'budget', 'revenue', 'homepage', 'tagline', 'keywords', 'overview', 'production_companies']\n",
    "df.drop(drop_col, axis=1, inplace=True)"
   ]
  },
  {
   "cell_type": "markdown",
   "id": "46fdbfd8",
   "metadata": {},
   "source": [
    "## 3. Investigate duplicates and drop them"
   ]
  },
  {
   "cell_type": "code",
   "execution_count": 430,
   "id": "6d1aca72",
   "metadata": {},
   "outputs": [
    {
     "data": {
      "text/plain": [
       "1"
      ]
     },
     "execution_count": 430,
     "metadata": {},
     "output_type": "execute_result"
    }
   ],
   "source": [
    "df.duplicated().sum()"
   ]
  },
  {
   "cell_type": "code",
   "execution_count": 431,
   "id": "0f632934",
   "metadata": {},
   "outputs": [
    {
     "data": {
      "text/html": [
       "<div>\n",
       "<style scoped>\n",
       "    .dataframe tbody tr th:only-of-type {\n",
       "        vertical-align: middle;\n",
       "    }\n",
       "\n",
       "    .dataframe tbody tr th {\n",
       "        vertical-align: top;\n",
       "    }\n",
       "\n",
       "    .dataframe thead th {\n",
       "        text-align: right;\n",
       "    }\n",
       "</style>\n",
       "<table border=\"1\" class=\"dataframe\">\n",
       "  <thead>\n",
       "    <tr style=\"text-align: right;\">\n",
       "      <th></th>\n",
       "      <th>popularity</th>\n",
       "      <th>original_title</th>\n",
       "      <th>cast</th>\n",
       "      <th>director</th>\n",
       "      <th>runtime</th>\n",
       "      <th>genres</th>\n",
       "      <th>release_date</th>\n",
       "      <th>vote_count</th>\n",
       "      <th>vote_average</th>\n",
       "      <th>release_year</th>\n",
       "      <th>budget_adj</th>\n",
       "      <th>revenue_adj</th>\n",
       "    </tr>\n",
       "  </thead>\n",
       "  <tbody>\n",
       "    <tr>\n",
       "      <th>2090</th>\n",
       "      <td>0.59643</td>\n",
       "      <td>TEKKEN</td>\n",
       "      <td>Jon Foo|Kelly Overton|Cary-Hiroyuki Tagawa|Ian...</td>\n",
       "      <td>Dwight H. Little</td>\n",
       "      <td>92</td>\n",
       "      <td>Crime|Drama|Action|Thriller|Science Fiction</td>\n",
       "      <td>3/20/10</td>\n",
       "      <td>110</td>\n",
       "      <td>5.0</td>\n",
       "      <td>2010</td>\n",
       "      <td>30000000.0</td>\n",
       "      <td>967000.0</td>\n",
       "    </tr>\n",
       "  </tbody>\n",
       "</table>\n",
       "</div>"
      ],
      "text/plain": [
       "      popularity original_title  \\\n",
       "2090     0.59643         TEKKEN   \n",
       "\n",
       "                                                   cast          director  \\\n",
       "2090  Jon Foo|Kelly Overton|Cary-Hiroyuki Tagawa|Ian...  Dwight H. Little   \n",
       "\n",
       "      runtime                                       genres release_date  \\\n",
       "2090       92  Crime|Drama|Action|Thriller|Science Fiction      3/20/10   \n",
       "\n",
       "      vote_count  vote_average  release_year  budget_adj  revenue_adj  \n",
       "2090         110           5.0          2010  30000000.0     967000.0  "
      ]
     },
     "execution_count": 431,
     "metadata": {},
     "output_type": "execute_result"
    }
   ],
   "source": [
    "df[df.duplicated() == True]"
   ]
  },
  {
   "cell_type": "code",
   "execution_count": 432,
   "id": "4eed0b01",
   "metadata": {},
   "outputs": [
    {
     "data": {
      "text/plain": [
       "(10866, 12)"
      ]
     },
     "execution_count": 432,
     "metadata": {},
     "output_type": "execute_result"
    }
   ],
   "source": [
    "df.shape"
   ]
  },
  {
   "cell_type": "code",
   "execution_count": 433,
   "id": "34cb33c1",
   "metadata": {},
   "outputs": [],
   "source": [
    "df.drop_duplicates(inplace=True)"
   ]
  },
  {
   "cell_type": "code",
   "execution_count": 434,
   "id": "e257bf88",
   "metadata": {},
   "outputs": [
    {
     "data": {
      "text/plain": [
       "(10865, 12)"
      ]
     },
     "execution_count": 434,
     "metadata": {},
     "output_type": "execute_result"
    }
   ],
   "source": [
    "df.shape"
   ]
  },
  {
   "cell_type": "markdown",
   "id": "b3ef6cce",
   "metadata": {},
   "source": [
    "## 3. Investigate the missing data"
   ]
  },
  {
   "cell_type": "code",
   "execution_count": 435,
   "id": "50129c50",
   "metadata": {},
   "outputs": [
    {
     "name": "stdout",
     "output_type": "stream",
     "text": [
      "<class 'pandas.core.frame.DataFrame'>\n",
      "Int64Index: 10865 entries, 0 to 10865\n",
      "Data columns (total 12 columns):\n",
      " #   Column          Non-Null Count  Dtype  \n",
      "---  ------          --------------  -----  \n",
      " 0   popularity      10865 non-null  float64\n",
      " 1   original_title  10865 non-null  object \n",
      " 2   cast            10789 non-null  object \n",
      " 3   director        10821 non-null  object \n",
      " 4   runtime         10865 non-null  int64  \n",
      " 5   genres          10842 non-null  object \n",
      " 6   release_date    10865 non-null  object \n",
      " 7   vote_count      10865 non-null  int64  \n",
      " 8   vote_average    10865 non-null  float64\n",
      " 9   release_year    10865 non-null  int64  \n",
      " 10  budget_adj      10865 non-null  float64\n",
      " 11  revenue_adj     10865 non-null  float64\n",
      "dtypes: float64(4), int64(3), object(5)\n",
      "memory usage: 1.1+ MB\n"
     ]
    }
   ],
   "source": [
    "df.info()"
   ]
  },
  {
   "cell_type": "code",
   "execution_count": 436,
   "id": "b972d8be",
   "metadata": {},
   "outputs": [
    {
     "data": {
      "text/html": [
       "<div>\n",
       "<style scoped>\n",
       "    .dataframe tbody tr th:only-of-type {\n",
       "        vertical-align: middle;\n",
       "    }\n",
       "\n",
       "    .dataframe tbody tr th {\n",
       "        vertical-align: top;\n",
       "    }\n",
       "\n",
       "    .dataframe thead th {\n",
       "        text-align: right;\n",
       "    }\n",
       "</style>\n",
       "<table border=\"1\" class=\"dataframe\">\n",
       "  <thead>\n",
       "    <tr style=\"text-align: right;\">\n",
       "      <th></th>\n",
       "      <th>popularity</th>\n",
       "      <th>runtime</th>\n",
       "      <th>vote_count</th>\n",
       "      <th>vote_average</th>\n",
       "      <th>release_year</th>\n",
       "      <th>budget_adj</th>\n",
       "      <th>revenue_adj</th>\n",
       "    </tr>\n",
       "  </thead>\n",
       "  <tbody>\n",
       "    <tr>\n",
       "      <th>count</th>\n",
       "      <td>10865.000000</td>\n",
       "      <td>10865.000000</td>\n",
       "      <td>10865.000000</td>\n",
       "      <td>10865.000000</td>\n",
       "      <td>10865.000000</td>\n",
       "      <td>1.086500e+04</td>\n",
       "      <td>1.086500e+04</td>\n",
       "    </tr>\n",
       "    <tr>\n",
       "      <th>mean</th>\n",
       "      <td>0.646446</td>\n",
       "      <td>102.071790</td>\n",
       "      <td>217.399632</td>\n",
       "      <td>5.975012</td>\n",
       "      <td>2001.321859</td>\n",
       "      <td>1.754989e+07</td>\n",
       "      <td>5.136900e+07</td>\n",
       "    </tr>\n",
       "    <tr>\n",
       "      <th>std</th>\n",
       "      <td>1.000231</td>\n",
       "      <td>31.382701</td>\n",
       "      <td>575.644627</td>\n",
       "      <td>0.935138</td>\n",
       "      <td>12.813260</td>\n",
       "      <td>3.430753e+07</td>\n",
       "      <td>1.446383e+08</td>\n",
       "    </tr>\n",
       "    <tr>\n",
       "      <th>min</th>\n",
       "      <td>0.000065</td>\n",
       "      <td>0.000000</td>\n",
       "      <td>10.000000</td>\n",
       "      <td>1.500000</td>\n",
       "      <td>1960.000000</td>\n",
       "      <td>0.000000e+00</td>\n",
       "      <td>0.000000e+00</td>\n",
       "    </tr>\n",
       "    <tr>\n",
       "      <th>25%</th>\n",
       "      <td>0.207575</td>\n",
       "      <td>90.000000</td>\n",
       "      <td>17.000000</td>\n",
       "      <td>5.400000</td>\n",
       "      <td>1995.000000</td>\n",
       "      <td>0.000000e+00</td>\n",
       "      <td>0.000000e+00</td>\n",
       "    </tr>\n",
       "    <tr>\n",
       "      <th>50%</th>\n",
       "      <td>0.383831</td>\n",
       "      <td>99.000000</td>\n",
       "      <td>38.000000</td>\n",
       "      <td>6.000000</td>\n",
       "      <td>2006.000000</td>\n",
       "      <td>0.000000e+00</td>\n",
       "      <td>0.000000e+00</td>\n",
       "    </tr>\n",
       "    <tr>\n",
       "      <th>75%</th>\n",
       "      <td>0.713857</td>\n",
       "      <td>111.000000</td>\n",
       "      <td>146.000000</td>\n",
       "      <td>6.600000</td>\n",
       "      <td>2011.000000</td>\n",
       "      <td>2.085325e+07</td>\n",
       "      <td>3.370173e+07</td>\n",
       "    </tr>\n",
       "    <tr>\n",
       "      <th>max</th>\n",
       "      <td>32.985763</td>\n",
       "      <td>900.000000</td>\n",
       "      <td>9767.000000</td>\n",
       "      <td>9.200000</td>\n",
       "      <td>2015.000000</td>\n",
       "      <td>4.250000e+08</td>\n",
       "      <td>2.827124e+09</td>\n",
       "    </tr>\n",
       "  </tbody>\n",
       "</table>\n",
       "</div>"
      ],
      "text/plain": [
       "         popularity       runtime    vote_count  vote_average  release_year  \\\n",
       "count  10865.000000  10865.000000  10865.000000  10865.000000  10865.000000   \n",
       "mean       0.646446    102.071790    217.399632      5.975012   2001.321859   \n",
       "std        1.000231     31.382701    575.644627      0.935138     12.813260   \n",
       "min        0.000065      0.000000     10.000000      1.500000   1960.000000   \n",
       "25%        0.207575     90.000000     17.000000      5.400000   1995.000000   \n",
       "50%        0.383831     99.000000     38.000000      6.000000   2006.000000   \n",
       "75%        0.713857    111.000000    146.000000      6.600000   2011.000000   \n",
       "max       32.985763    900.000000   9767.000000      9.200000   2015.000000   \n",
       "\n",
       "         budget_adj   revenue_adj  \n",
       "count  1.086500e+04  1.086500e+04  \n",
       "mean   1.754989e+07  5.136900e+07  \n",
       "std    3.430753e+07  1.446383e+08  \n",
       "min    0.000000e+00  0.000000e+00  \n",
       "25%    0.000000e+00  0.000000e+00  \n",
       "50%    0.000000e+00  0.000000e+00  \n",
       "75%    2.085325e+07  3.370173e+07  \n",
       "max    4.250000e+08  2.827124e+09  "
      ]
     },
     "execution_count": 436,
     "metadata": {},
     "output_type": "execute_result"
    }
   ],
   "source": [
    "df.describe()"
   ]
  },
  {
   "cell_type": "markdown",
   "id": "1d03d6cd",
   "metadata": {},
   "source": [
    "### 2.1 Drop the rows with missing data"
   ]
  },
  {
   "cell_type": "code",
   "execution_count": 437,
   "id": "36d938ac",
   "metadata": {
    "scrolled": true
   },
   "outputs": [
    {
     "name": "stdout",
     "output_type": "stream",
     "text": [
      "<class 'pandas.core.frame.DataFrame'>\n",
      "RangeIndex: 10731 entries, 0 to 10730\n",
      "Data columns (total 12 columns):\n",
      " #   Column          Non-Null Count  Dtype  \n",
      "---  ------          --------------  -----  \n",
      " 0   popularity      10731 non-null  float64\n",
      " 1   original_title  10731 non-null  object \n",
      " 2   cast            10731 non-null  object \n",
      " 3   director        10731 non-null  object \n",
      " 4   runtime         10731 non-null  int64  \n",
      " 5   genres          10731 non-null  object \n",
      " 6   release_date    10731 non-null  object \n",
      " 7   vote_count      10731 non-null  int64  \n",
      " 8   vote_average    10731 non-null  float64\n",
      " 9   release_year    10731 non-null  int64  \n",
      " 10  budget_adj      10731 non-null  float64\n",
      " 11  revenue_adj     10731 non-null  float64\n",
      "dtypes: float64(4), int64(3), object(5)\n",
      "memory usage: 1006.2+ KB\n"
     ]
    }
   ],
   "source": [
    "df.dropna(inplace=True)\n",
    "df.reset_index(drop=True, inplace=True)\n",
    "df.info()"
   ]
  },
  {
   "cell_type": "markdown",
   "id": "5eb0a0a5",
   "metadata": {},
   "source": [
    "## 1. Manipulate Categorical Data:"
   ]
  },
  {
   "cell_type": "markdown",
   "id": "ab863879",
   "metadata": {},
   "source": [
    "#### 1.1 Genres\n",
    "We took only first two genres of each movie (as third genre is missing more than 50% of its data)"
   ]
  },
  {
   "cell_type": "code",
   "execution_count": 438,
   "id": "e27ed508",
   "metadata": {},
   "outputs": [
    {
     "name": "stdout",
     "output_type": "stream",
     "text": [
      "<class 'pandas.core.frame.DataFrame'>\n",
      "RangeIndex: 10731 entries, 0 to 10730\n",
      "Data columns (total 5 columns):\n",
      " #   Column        Non-Null Count  Dtype \n",
      "---  ------        --------------  ----- \n",
      " 0   prim_genre    10731 non-null  object\n",
      " 1   second_genre  8460 non-null   object\n",
      " 2   2             5051 non-null   object\n",
      " 3   3             1972 non-null   object\n",
      " 4   4             539 non-null    object\n",
      "dtypes: object(5)\n",
      "memory usage: 419.3+ KB\n"
     ]
    }
   ],
   "source": [
    "genres_df = df['genres'].str.split(\"|\", expand=True)\n",
    "genres_df.rename(columns={0: 'prim_genre',\n",
    "                         1: 'second_genre'}, inplace=True)\n",
    "\n",
    "#look the missing data\n",
    "genres_df.info()"
   ]
  },
  {
   "cell_type": "code",
   "execution_count": 439,
   "id": "cf19ff24",
   "metadata": {},
   "outputs": [],
   "source": [
    "#concatenate the new two columns to the dataframe (df)\n",
    "df[genres_df.columns[:2]] = genres_df.iloc[:, :2]\n",
    "\n",
    "#drop the genres old column\n",
    "df.drop('genres', axis=1, inplace=True)"
   ]
  },
  {
   "cell_type": "code",
   "execution_count": 440,
   "id": "85f43627",
   "metadata": {},
   "outputs": [
    {
     "data": {
      "text/html": [
       "<div>\n",
       "<style scoped>\n",
       "    .dataframe tbody tr th:only-of-type {\n",
       "        vertical-align: middle;\n",
       "    }\n",
       "\n",
       "    .dataframe tbody tr th {\n",
       "        vertical-align: top;\n",
       "    }\n",
       "\n",
       "    .dataframe thead th {\n",
       "        text-align: right;\n",
       "    }\n",
       "</style>\n",
       "<table border=\"1\" class=\"dataframe\">\n",
       "  <thead>\n",
       "    <tr style=\"text-align: right;\">\n",
       "      <th></th>\n",
       "      <th>popularity</th>\n",
       "      <th>original_title</th>\n",
       "      <th>cast</th>\n",
       "      <th>director</th>\n",
       "      <th>runtime</th>\n",
       "      <th>release_date</th>\n",
       "      <th>vote_count</th>\n",
       "      <th>vote_average</th>\n",
       "      <th>release_year</th>\n",
       "      <th>budget_adj</th>\n",
       "      <th>revenue_adj</th>\n",
       "      <th>prim_genre</th>\n",
       "      <th>second_genre</th>\n",
       "    </tr>\n",
       "  </thead>\n",
       "  <tbody>\n",
       "    <tr>\n",
       "      <th>0</th>\n",
       "      <td>32.985763</td>\n",
       "      <td>Jurassic World</td>\n",
       "      <td>Chris Pratt|Bryce Dallas Howard|Irrfan Khan|Vi...</td>\n",
       "      <td>Colin Trevorrow</td>\n",
       "      <td>124</td>\n",
       "      <td>6/9/15</td>\n",
       "      <td>5562</td>\n",
       "      <td>6.5</td>\n",
       "      <td>2015</td>\n",
       "      <td>1.379999e+08</td>\n",
       "      <td>1.392446e+09</td>\n",
       "      <td>Action</td>\n",
       "      <td>Adventure</td>\n",
       "    </tr>\n",
       "    <tr>\n",
       "      <th>1</th>\n",
       "      <td>28.419936</td>\n",
       "      <td>Mad Max: Fury Road</td>\n",
       "      <td>Tom Hardy|Charlize Theron|Hugh Keays-Byrne|Nic...</td>\n",
       "      <td>George Miller</td>\n",
       "      <td>120</td>\n",
       "      <td>5/13/15</td>\n",
       "      <td>6185</td>\n",
       "      <td>7.1</td>\n",
       "      <td>2015</td>\n",
       "      <td>1.379999e+08</td>\n",
       "      <td>3.481613e+08</td>\n",
       "      <td>Action</td>\n",
       "      <td>Adventure</td>\n",
       "    </tr>\n",
       "    <tr>\n",
       "      <th>2</th>\n",
       "      <td>13.112507</td>\n",
       "      <td>Insurgent</td>\n",
       "      <td>Shailene Woodley|Theo James|Kate Winslet|Ansel...</td>\n",
       "      <td>Robert Schwentke</td>\n",
       "      <td>119</td>\n",
       "      <td>3/18/15</td>\n",
       "      <td>2480</td>\n",
       "      <td>6.3</td>\n",
       "      <td>2015</td>\n",
       "      <td>1.012000e+08</td>\n",
       "      <td>2.716190e+08</td>\n",
       "      <td>Adventure</td>\n",
       "      <td>Science Fiction</td>\n",
       "    </tr>\n",
       "    <tr>\n",
       "      <th>3</th>\n",
       "      <td>11.173104</td>\n",
       "      <td>Star Wars: The Force Awakens</td>\n",
       "      <td>Harrison Ford|Mark Hamill|Carrie Fisher|Adam D...</td>\n",
       "      <td>J.J. Abrams</td>\n",
       "      <td>136</td>\n",
       "      <td>12/15/15</td>\n",
       "      <td>5292</td>\n",
       "      <td>7.5</td>\n",
       "      <td>2015</td>\n",
       "      <td>1.839999e+08</td>\n",
       "      <td>1.902723e+09</td>\n",
       "      <td>Action</td>\n",
       "      <td>Adventure</td>\n",
       "    </tr>\n",
       "    <tr>\n",
       "      <th>4</th>\n",
       "      <td>9.335014</td>\n",
       "      <td>Furious 7</td>\n",
       "      <td>Vin Diesel|Paul Walker|Jason Statham|Michelle ...</td>\n",
       "      <td>James Wan</td>\n",
       "      <td>137</td>\n",
       "      <td>4/1/15</td>\n",
       "      <td>2947</td>\n",
       "      <td>7.3</td>\n",
       "      <td>2015</td>\n",
       "      <td>1.747999e+08</td>\n",
       "      <td>1.385749e+09</td>\n",
       "      <td>Action</td>\n",
       "      <td>Crime</td>\n",
       "    </tr>\n",
       "    <tr>\n",
       "      <th>...</th>\n",
       "      <td>...</td>\n",
       "      <td>...</td>\n",
       "      <td>...</td>\n",
       "      <td>...</td>\n",
       "      <td>...</td>\n",
       "      <td>...</td>\n",
       "      <td>...</td>\n",
       "      <td>...</td>\n",
       "      <td>...</td>\n",
       "      <td>...</td>\n",
       "      <td>...</td>\n",
       "      <td>...</td>\n",
       "      <td>...</td>\n",
       "    </tr>\n",
       "    <tr>\n",
       "      <th>10726</th>\n",
       "      <td>0.080598</td>\n",
       "      <td>The Endless Summer</td>\n",
       "      <td>Michael Hynson|Robert August|Lord 'Tally Ho' B...</td>\n",
       "      <td>Bruce Brown</td>\n",
       "      <td>95</td>\n",
       "      <td>6/15/66</td>\n",
       "      <td>11</td>\n",
       "      <td>7.4</td>\n",
       "      <td>1966</td>\n",
       "      <td>0.000000e+00</td>\n",
       "      <td>0.000000e+00</td>\n",
       "      <td>Documentary</td>\n",
       "      <td>None</td>\n",
       "    </tr>\n",
       "    <tr>\n",
       "      <th>10727</th>\n",
       "      <td>0.065543</td>\n",
       "      <td>Grand Prix</td>\n",
       "      <td>James Garner|Eva Marie Saint|Yves Montand|Tosh...</td>\n",
       "      <td>John Frankenheimer</td>\n",
       "      <td>176</td>\n",
       "      <td>12/21/66</td>\n",
       "      <td>20</td>\n",
       "      <td>5.7</td>\n",
       "      <td>1966</td>\n",
       "      <td>0.000000e+00</td>\n",
       "      <td>0.000000e+00</td>\n",
       "      <td>Action</td>\n",
       "      <td>Adventure</td>\n",
       "    </tr>\n",
       "    <tr>\n",
       "      <th>10728</th>\n",
       "      <td>0.065141</td>\n",
       "      <td>Beregis Avtomobilya</td>\n",
       "      <td>Innokentiy Smoktunovskiy|Oleg Efremov|Georgi Z...</td>\n",
       "      <td>Eldar Ryazanov</td>\n",
       "      <td>94</td>\n",
       "      <td>1/1/66</td>\n",
       "      <td>11</td>\n",
       "      <td>6.5</td>\n",
       "      <td>1966</td>\n",
       "      <td>0.000000e+00</td>\n",
       "      <td>0.000000e+00</td>\n",
       "      <td>Mystery</td>\n",
       "      <td>Comedy</td>\n",
       "    </tr>\n",
       "    <tr>\n",
       "      <th>10729</th>\n",
       "      <td>0.064317</td>\n",
       "      <td>What's Up, Tiger Lily?</td>\n",
       "      <td>Tatsuya Mihashi|Akiko Wakabayashi|Mie Hama|Joh...</td>\n",
       "      <td>Woody Allen</td>\n",
       "      <td>80</td>\n",
       "      <td>11/2/66</td>\n",
       "      <td>22</td>\n",
       "      <td>5.4</td>\n",
       "      <td>1966</td>\n",
       "      <td>0.000000e+00</td>\n",
       "      <td>0.000000e+00</td>\n",
       "      <td>Action</td>\n",
       "      <td>Comedy</td>\n",
       "    </tr>\n",
       "    <tr>\n",
       "      <th>10730</th>\n",
       "      <td>0.035919</td>\n",
       "      <td>Manos: The Hands of Fate</td>\n",
       "      <td>Harold P. Warren|Tom Neyman|John Reynolds|Dian...</td>\n",
       "      <td>Harold P. Warren</td>\n",
       "      <td>74</td>\n",
       "      <td>11/15/66</td>\n",
       "      <td>15</td>\n",
       "      <td>1.5</td>\n",
       "      <td>1966</td>\n",
       "      <td>1.276423e+05</td>\n",
       "      <td>0.000000e+00</td>\n",
       "      <td>Horror</td>\n",
       "      <td>None</td>\n",
       "    </tr>\n",
       "  </tbody>\n",
       "</table>\n",
       "<p>10731 rows × 13 columns</p>\n",
       "</div>"
      ],
      "text/plain": [
       "       popularity                original_title  \\\n",
       "0       32.985763                Jurassic World   \n",
       "1       28.419936            Mad Max: Fury Road   \n",
       "2       13.112507                     Insurgent   \n",
       "3       11.173104  Star Wars: The Force Awakens   \n",
       "4        9.335014                     Furious 7   \n",
       "...           ...                           ...   \n",
       "10726    0.080598            The Endless Summer   \n",
       "10727    0.065543                    Grand Prix   \n",
       "10728    0.065141           Beregis Avtomobilya   \n",
       "10729    0.064317        What's Up, Tiger Lily?   \n",
       "10730    0.035919      Manos: The Hands of Fate   \n",
       "\n",
       "                                                    cast            director  \\\n",
       "0      Chris Pratt|Bryce Dallas Howard|Irrfan Khan|Vi...     Colin Trevorrow   \n",
       "1      Tom Hardy|Charlize Theron|Hugh Keays-Byrne|Nic...       George Miller   \n",
       "2      Shailene Woodley|Theo James|Kate Winslet|Ansel...    Robert Schwentke   \n",
       "3      Harrison Ford|Mark Hamill|Carrie Fisher|Adam D...         J.J. Abrams   \n",
       "4      Vin Diesel|Paul Walker|Jason Statham|Michelle ...           James Wan   \n",
       "...                                                  ...                 ...   \n",
       "10726  Michael Hynson|Robert August|Lord 'Tally Ho' B...         Bruce Brown   \n",
       "10727  James Garner|Eva Marie Saint|Yves Montand|Tosh...  John Frankenheimer   \n",
       "10728  Innokentiy Smoktunovskiy|Oleg Efremov|Georgi Z...      Eldar Ryazanov   \n",
       "10729  Tatsuya Mihashi|Akiko Wakabayashi|Mie Hama|Joh...         Woody Allen   \n",
       "10730  Harold P. Warren|Tom Neyman|John Reynolds|Dian...    Harold P. Warren   \n",
       "\n",
       "       runtime release_date  vote_count  vote_average  release_year  \\\n",
       "0          124       6/9/15        5562           6.5          2015   \n",
       "1          120      5/13/15        6185           7.1          2015   \n",
       "2          119      3/18/15        2480           6.3          2015   \n",
       "3          136     12/15/15        5292           7.5          2015   \n",
       "4          137       4/1/15        2947           7.3          2015   \n",
       "...        ...          ...         ...           ...           ...   \n",
       "10726       95      6/15/66          11           7.4          1966   \n",
       "10727      176     12/21/66          20           5.7          1966   \n",
       "10728       94       1/1/66          11           6.5          1966   \n",
       "10729       80      11/2/66          22           5.4          1966   \n",
       "10730       74     11/15/66          15           1.5          1966   \n",
       "\n",
       "         budget_adj   revenue_adj   prim_genre     second_genre  \n",
       "0      1.379999e+08  1.392446e+09       Action        Adventure  \n",
       "1      1.379999e+08  3.481613e+08       Action        Adventure  \n",
       "2      1.012000e+08  2.716190e+08    Adventure  Science Fiction  \n",
       "3      1.839999e+08  1.902723e+09       Action        Adventure  \n",
       "4      1.747999e+08  1.385749e+09       Action            Crime  \n",
       "...             ...           ...          ...              ...  \n",
       "10726  0.000000e+00  0.000000e+00  Documentary             None  \n",
       "10727  0.000000e+00  0.000000e+00       Action        Adventure  \n",
       "10728  0.000000e+00  0.000000e+00      Mystery           Comedy  \n",
       "10729  0.000000e+00  0.000000e+00       Action           Comedy  \n",
       "10730  1.276423e+05  0.000000e+00       Horror             None  \n",
       "\n",
       "[10731 rows x 13 columns]"
      ]
     },
     "execution_count": 440,
     "metadata": {},
     "output_type": "execute_result"
    }
   ],
   "source": [
    "df"
   ]
  },
  {
   "cell_type": "markdown",
   "id": "e65ad7a1",
   "metadata": {},
   "source": [
    "#### 1.2 Cast\n",
    "We took only first two heros (actors) of any movie"
   ]
  },
  {
   "cell_type": "code",
   "execution_count": 441,
   "id": "3285452c",
   "metadata": {},
   "outputs": [
    {
     "data": {
      "text/html": [
       "<div>\n",
       "<style scoped>\n",
       "    .dataframe tbody tr th:only-of-type {\n",
       "        vertical-align: middle;\n",
       "    }\n",
       "\n",
       "    .dataframe tbody tr th {\n",
       "        vertical-align: top;\n",
       "    }\n",
       "\n",
       "    .dataframe thead th {\n",
       "        text-align: right;\n",
       "    }\n",
       "</style>\n",
       "<table border=\"1\" class=\"dataframe\">\n",
       "  <thead>\n",
       "    <tr style=\"text-align: right;\">\n",
       "      <th></th>\n",
       "      <th>prim_actor</th>\n",
       "      <th>second_actor</th>\n",
       "      <th>2</th>\n",
       "      <th>3</th>\n",
       "      <th>4</th>\n",
       "    </tr>\n",
       "  </thead>\n",
       "  <tbody>\n",
       "    <tr>\n",
       "      <th>0</th>\n",
       "      <td>Chris Pratt</td>\n",
       "      <td>Bryce Dallas Howard</td>\n",
       "      <td>Irrfan Khan</td>\n",
       "      <td>Vincent D'Onofrio</td>\n",
       "      <td>Nick Robinson</td>\n",
       "    </tr>\n",
       "    <tr>\n",
       "      <th>1</th>\n",
       "      <td>Tom Hardy</td>\n",
       "      <td>Charlize Theron</td>\n",
       "      <td>Hugh Keays-Byrne</td>\n",
       "      <td>Nicholas Hoult</td>\n",
       "      <td>Josh Helman</td>\n",
       "    </tr>\n",
       "    <tr>\n",
       "      <th>2</th>\n",
       "      <td>Shailene Woodley</td>\n",
       "      <td>Theo James</td>\n",
       "      <td>Kate Winslet</td>\n",
       "      <td>Ansel Elgort</td>\n",
       "      <td>Miles Teller</td>\n",
       "    </tr>\n",
       "    <tr>\n",
       "      <th>3</th>\n",
       "      <td>Harrison Ford</td>\n",
       "      <td>Mark Hamill</td>\n",
       "      <td>Carrie Fisher</td>\n",
       "      <td>Adam Driver</td>\n",
       "      <td>Daisy Ridley</td>\n",
       "    </tr>\n",
       "    <tr>\n",
       "      <th>4</th>\n",
       "      <td>Vin Diesel</td>\n",
       "      <td>Paul Walker</td>\n",
       "      <td>Jason Statham</td>\n",
       "      <td>Michelle Rodriguez</td>\n",
       "      <td>Dwayne Johnson</td>\n",
       "    </tr>\n",
       "    <tr>\n",
       "      <th>...</th>\n",
       "      <td>...</td>\n",
       "      <td>...</td>\n",
       "      <td>...</td>\n",
       "      <td>...</td>\n",
       "      <td>...</td>\n",
       "    </tr>\n",
       "    <tr>\n",
       "      <th>10726</th>\n",
       "      <td>Michael Hynson</td>\n",
       "      <td>Robert August</td>\n",
       "      <td>Lord 'Tally Ho' Blears</td>\n",
       "      <td>Bruce Brown</td>\n",
       "      <td>Chip Fitzwater</td>\n",
       "    </tr>\n",
       "    <tr>\n",
       "      <th>10727</th>\n",
       "      <td>James Garner</td>\n",
       "      <td>Eva Marie Saint</td>\n",
       "      <td>Yves Montand</td>\n",
       "      <td>ToshirÅ Mifune</td>\n",
       "      <td>Brian Bedford</td>\n",
       "    </tr>\n",
       "    <tr>\n",
       "      <th>10728</th>\n",
       "      <td>Innokentiy Smoktunovskiy</td>\n",
       "      <td>Oleg Efremov</td>\n",
       "      <td>Georgi Zhzhyonov</td>\n",
       "      <td>Olga Aroseva</td>\n",
       "      <td>Lyubov Dobrzhanskaya</td>\n",
       "    </tr>\n",
       "    <tr>\n",
       "      <th>10729</th>\n",
       "      <td>Tatsuya Mihashi</td>\n",
       "      <td>Akiko Wakabayashi</td>\n",
       "      <td>Mie Hama</td>\n",
       "      <td>John Sebastian</td>\n",
       "      <td>Tadao Nakamaru</td>\n",
       "    </tr>\n",
       "    <tr>\n",
       "      <th>10730</th>\n",
       "      <td>Harold P. Warren</td>\n",
       "      <td>Tom Neyman</td>\n",
       "      <td>John Reynolds</td>\n",
       "      <td>Diane Mahree</td>\n",
       "      <td>Stephanie Nielson</td>\n",
       "    </tr>\n",
       "  </tbody>\n",
       "</table>\n",
       "<p>10731 rows × 5 columns</p>\n",
       "</div>"
      ],
      "text/plain": [
       "                     prim_actor         second_actor                       2  \\\n",
       "0                   Chris Pratt  Bryce Dallas Howard             Irrfan Khan   \n",
       "1                     Tom Hardy      Charlize Theron        Hugh Keays-Byrne   \n",
       "2              Shailene Woodley           Theo James            Kate Winslet   \n",
       "3                 Harrison Ford          Mark Hamill           Carrie Fisher   \n",
       "4                    Vin Diesel          Paul Walker           Jason Statham   \n",
       "...                         ...                  ...                     ...   \n",
       "10726            Michael Hynson        Robert August  Lord 'Tally Ho' Blears   \n",
       "10727              James Garner      Eva Marie Saint            Yves Montand   \n",
       "10728  Innokentiy Smoktunovskiy         Oleg Efremov        Georgi Zhzhyonov   \n",
       "10729           Tatsuya Mihashi    Akiko Wakabayashi                Mie Hama   \n",
       "10730          Harold P. Warren           Tom Neyman           John Reynolds   \n",
       "\n",
       "                        3                     4  \n",
       "0       Vincent D'Onofrio         Nick Robinson  \n",
       "1          Nicholas Hoult           Josh Helman  \n",
       "2            Ansel Elgort          Miles Teller  \n",
       "3             Adam Driver          Daisy Ridley  \n",
       "4      Michelle Rodriguez        Dwayne Johnson  \n",
       "...                   ...                   ...  \n",
       "10726         Bruce Brown        Chip Fitzwater  \n",
       "10727      ToshirÅ Mifune         Brian Bedford  \n",
       "10728        Olga Aroseva  Lyubov Dobrzhanskaya  \n",
       "10729      John Sebastian        Tadao Nakamaru  \n",
       "10730        Diane Mahree     Stephanie Nielson  \n",
       "\n",
       "[10731 rows x 5 columns]"
      ]
     },
     "execution_count": 441,
     "metadata": {},
     "output_type": "execute_result"
    }
   ],
   "source": [
    "cast_df = df['cast'].str.split(\"|\", expand=True)\n",
    "cast_df.rename(columns={0: 'prim_actor',\n",
    "                         1: 'second_actor',\n",
    "                         }, inplace=True)\n",
    "cast_df"
   ]
  },
  {
   "cell_type": "code",
   "execution_count": 442,
   "id": "86bc88f2",
   "metadata": {},
   "outputs": [],
   "source": [
    "#concatenate the new two columns to the dataframe (df)\n",
    "df[cast_df.columns[:2]] = cast_df.iloc[:,:2]\n",
    "\n",
    "#drop the cast old column\n",
    "df.drop('cast', axis=1, inplace=True)"
   ]
  },
  {
   "cell_type": "code",
   "execution_count": 443,
   "id": "a7b89c11",
   "metadata": {},
   "outputs": [
    {
     "data": {
      "text/html": [
       "<div>\n",
       "<style scoped>\n",
       "    .dataframe tbody tr th:only-of-type {\n",
       "        vertical-align: middle;\n",
       "    }\n",
       "\n",
       "    .dataframe tbody tr th {\n",
       "        vertical-align: top;\n",
       "    }\n",
       "\n",
       "    .dataframe thead th {\n",
       "        text-align: right;\n",
       "    }\n",
       "</style>\n",
       "<table border=\"1\" class=\"dataframe\">\n",
       "  <thead>\n",
       "    <tr style=\"text-align: right;\">\n",
       "      <th></th>\n",
       "      <th>popularity</th>\n",
       "      <th>original_title</th>\n",
       "      <th>director</th>\n",
       "      <th>runtime</th>\n",
       "      <th>release_date</th>\n",
       "      <th>vote_count</th>\n",
       "      <th>vote_average</th>\n",
       "      <th>release_year</th>\n",
       "      <th>budget_adj</th>\n",
       "      <th>revenue_adj</th>\n",
       "      <th>prim_genre</th>\n",
       "      <th>second_genre</th>\n",
       "      <th>prim_actor</th>\n",
       "      <th>second_actor</th>\n",
       "    </tr>\n",
       "  </thead>\n",
       "  <tbody>\n",
       "    <tr>\n",
       "      <th>0</th>\n",
       "      <td>32.985763</td>\n",
       "      <td>Jurassic World</td>\n",
       "      <td>Colin Trevorrow</td>\n",
       "      <td>124</td>\n",
       "      <td>6/9/15</td>\n",
       "      <td>5562</td>\n",
       "      <td>6.5</td>\n",
       "      <td>2015</td>\n",
       "      <td>1.379999e+08</td>\n",
       "      <td>1.392446e+09</td>\n",
       "      <td>Action</td>\n",
       "      <td>Adventure</td>\n",
       "      <td>Chris Pratt</td>\n",
       "      <td>Bryce Dallas Howard</td>\n",
       "    </tr>\n",
       "    <tr>\n",
       "      <th>1</th>\n",
       "      <td>28.419936</td>\n",
       "      <td>Mad Max: Fury Road</td>\n",
       "      <td>George Miller</td>\n",
       "      <td>120</td>\n",
       "      <td>5/13/15</td>\n",
       "      <td>6185</td>\n",
       "      <td>7.1</td>\n",
       "      <td>2015</td>\n",
       "      <td>1.379999e+08</td>\n",
       "      <td>3.481613e+08</td>\n",
       "      <td>Action</td>\n",
       "      <td>Adventure</td>\n",
       "      <td>Tom Hardy</td>\n",
       "      <td>Charlize Theron</td>\n",
       "    </tr>\n",
       "    <tr>\n",
       "      <th>2</th>\n",
       "      <td>13.112507</td>\n",
       "      <td>Insurgent</td>\n",
       "      <td>Robert Schwentke</td>\n",
       "      <td>119</td>\n",
       "      <td>3/18/15</td>\n",
       "      <td>2480</td>\n",
       "      <td>6.3</td>\n",
       "      <td>2015</td>\n",
       "      <td>1.012000e+08</td>\n",
       "      <td>2.716190e+08</td>\n",
       "      <td>Adventure</td>\n",
       "      <td>Science Fiction</td>\n",
       "      <td>Shailene Woodley</td>\n",
       "      <td>Theo James</td>\n",
       "    </tr>\n",
       "    <tr>\n",
       "      <th>3</th>\n",
       "      <td>11.173104</td>\n",
       "      <td>Star Wars: The Force Awakens</td>\n",
       "      <td>J.J. Abrams</td>\n",
       "      <td>136</td>\n",
       "      <td>12/15/15</td>\n",
       "      <td>5292</td>\n",
       "      <td>7.5</td>\n",
       "      <td>2015</td>\n",
       "      <td>1.839999e+08</td>\n",
       "      <td>1.902723e+09</td>\n",
       "      <td>Action</td>\n",
       "      <td>Adventure</td>\n",
       "      <td>Harrison Ford</td>\n",
       "      <td>Mark Hamill</td>\n",
       "    </tr>\n",
       "    <tr>\n",
       "      <th>4</th>\n",
       "      <td>9.335014</td>\n",
       "      <td>Furious 7</td>\n",
       "      <td>James Wan</td>\n",
       "      <td>137</td>\n",
       "      <td>4/1/15</td>\n",
       "      <td>2947</td>\n",
       "      <td>7.3</td>\n",
       "      <td>2015</td>\n",
       "      <td>1.747999e+08</td>\n",
       "      <td>1.385749e+09</td>\n",
       "      <td>Action</td>\n",
       "      <td>Crime</td>\n",
       "      <td>Vin Diesel</td>\n",
       "      <td>Paul Walker</td>\n",
       "    </tr>\n",
       "    <tr>\n",
       "      <th>...</th>\n",
       "      <td>...</td>\n",
       "      <td>...</td>\n",
       "      <td>...</td>\n",
       "      <td>...</td>\n",
       "      <td>...</td>\n",
       "      <td>...</td>\n",
       "      <td>...</td>\n",
       "      <td>...</td>\n",
       "      <td>...</td>\n",
       "      <td>...</td>\n",
       "      <td>...</td>\n",
       "      <td>...</td>\n",
       "      <td>...</td>\n",
       "      <td>...</td>\n",
       "    </tr>\n",
       "    <tr>\n",
       "      <th>10726</th>\n",
       "      <td>0.080598</td>\n",
       "      <td>The Endless Summer</td>\n",
       "      <td>Bruce Brown</td>\n",
       "      <td>95</td>\n",
       "      <td>6/15/66</td>\n",
       "      <td>11</td>\n",
       "      <td>7.4</td>\n",
       "      <td>1966</td>\n",
       "      <td>0.000000e+00</td>\n",
       "      <td>0.000000e+00</td>\n",
       "      <td>Documentary</td>\n",
       "      <td>None</td>\n",
       "      <td>Michael Hynson</td>\n",
       "      <td>Robert August</td>\n",
       "    </tr>\n",
       "    <tr>\n",
       "      <th>10727</th>\n",
       "      <td>0.065543</td>\n",
       "      <td>Grand Prix</td>\n",
       "      <td>John Frankenheimer</td>\n",
       "      <td>176</td>\n",
       "      <td>12/21/66</td>\n",
       "      <td>20</td>\n",
       "      <td>5.7</td>\n",
       "      <td>1966</td>\n",
       "      <td>0.000000e+00</td>\n",
       "      <td>0.000000e+00</td>\n",
       "      <td>Action</td>\n",
       "      <td>Adventure</td>\n",
       "      <td>James Garner</td>\n",
       "      <td>Eva Marie Saint</td>\n",
       "    </tr>\n",
       "    <tr>\n",
       "      <th>10728</th>\n",
       "      <td>0.065141</td>\n",
       "      <td>Beregis Avtomobilya</td>\n",
       "      <td>Eldar Ryazanov</td>\n",
       "      <td>94</td>\n",
       "      <td>1/1/66</td>\n",
       "      <td>11</td>\n",
       "      <td>6.5</td>\n",
       "      <td>1966</td>\n",
       "      <td>0.000000e+00</td>\n",
       "      <td>0.000000e+00</td>\n",
       "      <td>Mystery</td>\n",
       "      <td>Comedy</td>\n",
       "      <td>Innokentiy Smoktunovskiy</td>\n",
       "      <td>Oleg Efremov</td>\n",
       "    </tr>\n",
       "    <tr>\n",
       "      <th>10729</th>\n",
       "      <td>0.064317</td>\n",
       "      <td>What's Up, Tiger Lily?</td>\n",
       "      <td>Woody Allen</td>\n",
       "      <td>80</td>\n",
       "      <td>11/2/66</td>\n",
       "      <td>22</td>\n",
       "      <td>5.4</td>\n",
       "      <td>1966</td>\n",
       "      <td>0.000000e+00</td>\n",
       "      <td>0.000000e+00</td>\n",
       "      <td>Action</td>\n",
       "      <td>Comedy</td>\n",
       "      <td>Tatsuya Mihashi</td>\n",
       "      <td>Akiko Wakabayashi</td>\n",
       "    </tr>\n",
       "    <tr>\n",
       "      <th>10730</th>\n",
       "      <td>0.035919</td>\n",
       "      <td>Manos: The Hands of Fate</td>\n",
       "      <td>Harold P. Warren</td>\n",
       "      <td>74</td>\n",
       "      <td>11/15/66</td>\n",
       "      <td>15</td>\n",
       "      <td>1.5</td>\n",
       "      <td>1966</td>\n",
       "      <td>1.276423e+05</td>\n",
       "      <td>0.000000e+00</td>\n",
       "      <td>Horror</td>\n",
       "      <td>None</td>\n",
       "      <td>Harold P. Warren</td>\n",
       "      <td>Tom Neyman</td>\n",
       "    </tr>\n",
       "  </tbody>\n",
       "</table>\n",
       "<p>10731 rows × 14 columns</p>\n",
       "</div>"
      ],
      "text/plain": [
       "       popularity                original_title            director  runtime  \\\n",
       "0       32.985763                Jurassic World     Colin Trevorrow      124   \n",
       "1       28.419936            Mad Max: Fury Road       George Miller      120   \n",
       "2       13.112507                     Insurgent    Robert Schwentke      119   \n",
       "3       11.173104  Star Wars: The Force Awakens         J.J. Abrams      136   \n",
       "4        9.335014                     Furious 7           James Wan      137   \n",
       "...           ...                           ...                 ...      ...   \n",
       "10726    0.080598            The Endless Summer         Bruce Brown       95   \n",
       "10727    0.065543                    Grand Prix  John Frankenheimer      176   \n",
       "10728    0.065141           Beregis Avtomobilya      Eldar Ryazanov       94   \n",
       "10729    0.064317        What's Up, Tiger Lily?         Woody Allen       80   \n",
       "10730    0.035919      Manos: The Hands of Fate    Harold P. Warren       74   \n",
       "\n",
       "      release_date  vote_count  vote_average  release_year    budget_adj  \\\n",
       "0           6/9/15        5562           6.5          2015  1.379999e+08   \n",
       "1          5/13/15        6185           7.1          2015  1.379999e+08   \n",
       "2          3/18/15        2480           6.3          2015  1.012000e+08   \n",
       "3         12/15/15        5292           7.5          2015  1.839999e+08   \n",
       "4           4/1/15        2947           7.3          2015  1.747999e+08   \n",
       "...            ...         ...           ...           ...           ...   \n",
       "10726      6/15/66          11           7.4          1966  0.000000e+00   \n",
       "10727     12/21/66          20           5.7          1966  0.000000e+00   \n",
       "10728       1/1/66          11           6.5          1966  0.000000e+00   \n",
       "10729      11/2/66          22           5.4          1966  0.000000e+00   \n",
       "10730     11/15/66          15           1.5          1966  1.276423e+05   \n",
       "\n",
       "        revenue_adj   prim_genre     second_genre                prim_actor  \\\n",
       "0      1.392446e+09       Action        Adventure               Chris Pratt   \n",
       "1      3.481613e+08       Action        Adventure                 Tom Hardy   \n",
       "2      2.716190e+08    Adventure  Science Fiction          Shailene Woodley   \n",
       "3      1.902723e+09       Action        Adventure             Harrison Ford   \n",
       "4      1.385749e+09       Action            Crime                Vin Diesel   \n",
       "...             ...          ...              ...                       ...   \n",
       "10726  0.000000e+00  Documentary             None            Michael Hynson   \n",
       "10727  0.000000e+00       Action        Adventure              James Garner   \n",
       "10728  0.000000e+00      Mystery           Comedy  Innokentiy Smoktunovskiy   \n",
       "10729  0.000000e+00       Action           Comedy           Tatsuya Mihashi   \n",
       "10730  0.000000e+00       Horror             None          Harold P. Warren   \n",
       "\n",
       "              second_actor  \n",
       "0      Bryce Dallas Howard  \n",
       "1          Charlize Theron  \n",
       "2               Theo James  \n",
       "3              Mark Hamill  \n",
       "4              Paul Walker  \n",
       "...                    ...  \n",
       "10726        Robert August  \n",
       "10727      Eva Marie Saint  \n",
       "10728         Oleg Efremov  \n",
       "10729    Akiko Wakabayashi  \n",
       "10730           Tom Neyman  \n",
       "\n",
       "[10731 rows x 14 columns]"
      ]
     },
     "execution_count": 443,
     "metadata": {},
     "output_type": "execute_result"
    }
   ],
   "source": [
    "df"
   ]
  },
  {
   "cell_type": "markdown",
   "id": "feca6a3e",
   "metadata": {},
   "source": [
    "#### 1.3 Director\n",
    "We took only the primary director"
   ]
  },
  {
   "cell_type": "code",
   "execution_count": 444,
   "id": "b2c4ec2f",
   "metadata": {},
   "outputs": [],
   "source": [
    "direct_df = df['director'].str.split(\"|\", expand=True)\n",
    "direct_df.rename(columns={0: 'prim_director'\n",
    "                         }, inplace=True)"
   ]
  },
  {
   "cell_type": "code",
   "execution_count": 445,
   "id": "979f7cca",
   "metadata": {},
   "outputs": [],
   "source": [
    "#concatenate the new column to the dataframe (df)\n",
    "df['prim_director'] = direct_df.loc[:,'prim_director']\n",
    "\n",
    "#drop the old director column\n",
    "df.drop('director', axis=1, inplace=True)"
   ]
  },
  {
   "cell_type": "code",
   "execution_count": 446,
   "id": "d6f4f969",
   "metadata": {},
   "outputs": [
    {
     "data": {
      "text/html": [
       "<div>\n",
       "<style scoped>\n",
       "    .dataframe tbody tr th:only-of-type {\n",
       "        vertical-align: middle;\n",
       "    }\n",
       "\n",
       "    .dataframe tbody tr th {\n",
       "        vertical-align: top;\n",
       "    }\n",
       "\n",
       "    .dataframe thead th {\n",
       "        text-align: right;\n",
       "    }\n",
       "</style>\n",
       "<table border=\"1\" class=\"dataframe\">\n",
       "  <thead>\n",
       "    <tr style=\"text-align: right;\">\n",
       "      <th></th>\n",
       "      <th>popularity</th>\n",
       "      <th>original_title</th>\n",
       "      <th>runtime</th>\n",
       "      <th>release_date</th>\n",
       "      <th>vote_count</th>\n",
       "      <th>vote_average</th>\n",
       "      <th>release_year</th>\n",
       "      <th>budget_adj</th>\n",
       "      <th>revenue_adj</th>\n",
       "      <th>prim_genre</th>\n",
       "      <th>second_genre</th>\n",
       "      <th>prim_actor</th>\n",
       "      <th>second_actor</th>\n",
       "      <th>prim_director</th>\n",
       "    </tr>\n",
       "  </thead>\n",
       "  <tbody>\n",
       "    <tr>\n",
       "      <th>0</th>\n",
       "      <td>32.985763</td>\n",
       "      <td>Jurassic World</td>\n",
       "      <td>124</td>\n",
       "      <td>6/9/15</td>\n",
       "      <td>5562</td>\n",
       "      <td>6.5</td>\n",
       "      <td>2015</td>\n",
       "      <td>1.379999e+08</td>\n",
       "      <td>1.392446e+09</td>\n",
       "      <td>Action</td>\n",
       "      <td>Adventure</td>\n",
       "      <td>Chris Pratt</td>\n",
       "      <td>Bryce Dallas Howard</td>\n",
       "      <td>Colin Trevorrow</td>\n",
       "    </tr>\n",
       "    <tr>\n",
       "      <th>1</th>\n",
       "      <td>28.419936</td>\n",
       "      <td>Mad Max: Fury Road</td>\n",
       "      <td>120</td>\n",
       "      <td>5/13/15</td>\n",
       "      <td>6185</td>\n",
       "      <td>7.1</td>\n",
       "      <td>2015</td>\n",
       "      <td>1.379999e+08</td>\n",
       "      <td>3.481613e+08</td>\n",
       "      <td>Action</td>\n",
       "      <td>Adventure</td>\n",
       "      <td>Tom Hardy</td>\n",
       "      <td>Charlize Theron</td>\n",
       "      <td>George Miller</td>\n",
       "    </tr>\n",
       "    <tr>\n",
       "      <th>2</th>\n",
       "      <td>13.112507</td>\n",
       "      <td>Insurgent</td>\n",
       "      <td>119</td>\n",
       "      <td>3/18/15</td>\n",
       "      <td>2480</td>\n",
       "      <td>6.3</td>\n",
       "      <td>2015</td>\n",
       "      <td>1.012000e+08</td>\n",
       "      <td>2.716190e+08</td>\n",
       "      <td>Adventure</td>\n",
       "      <td>Science Fiction</td>\n",
       "      <td>Shailene Woodley</td>\n",
       "      <td>Theo James</td>\n",
       "      <td>Robert Schwentke</td>\n",
       "    </tr>\n",
       "    <tr>\n",
       "      <th>3</th>\n",
       "      <td>11.173104</td>\n",
       "      <td>Star Wars: The Force Awakens</td>\n",
       "      <td>136</td>\n",
       "      <td>12/15/15</td>\n",
       "      <td>5292</td>\n",
       "      <td>7.5</td>\n",
       "      <td>2015</td>\n",
       "      <td>1.839999e+08</td>\n",
       "      <td>1.902723e+09</td>\n",
       "      <td>Action</td>\n",
       "      <td>Adventure</td>\n",
       "      <td>Harrison Ford</td>\n",
       "      <td>Mark Hamill</td>\n",
       "      <td>J.J. Abrams</td>\n",
       "    </tr>\n",
       "    <tr>\n",
       "      <th>4</th>\n",
       "      <td>9.335014</td>\n",
       "      <td>Furious 7</td>\n",
       "      <td>137</td>\n",
       "      <td>4/1/15</td>\n",
       "      <td>2947</td>\n",
       "      <td>7.3</td>\n",
       "      <td>2015</td>\n",
       "      <td>1.747999e+08</td>\n",
       "      <td>1.385749e+09</td>\n",
       "      <td>Action</td>\n",
       "      <td>Crime</td>\n",
       "      <td>Vin Diesel</td>\n",
       "      <td>Paul Walker</td>\n",
       "      <td>James Wan</td>\n",
       "    </tr>\n",
       "    <tr>\n",
       "      <th>...</th>\n",
       "      <td>...</td>\n",
       "      <td>...</td>\n",
       "      <td>...</td>\n",
       "      <td>...</td>\n",
       "      <td>...</td>\n",
       "      <td>...</td>\n",
       "      <td>...</td>\n",
       "      <td>...</td>\n",
       "      <td>...</td>\n",
       "      <td>...</td>\n",
       "      <td>...</td>\n",
       "      <td>...</td>\n",
       "      <td>...</td>\n",
       "      <td>...</td>\n",
       "    </tr>\n",
       "    <tr>\n",
       "      <th>10726</th>\n",
       "      <td>0.080598</td>\n",
       "      <td>The Endless Summer</td>\n",
       "      <td>95</td>\n",
       "      <td>6/15/66</td>\n",
       "      <td>11</td>\n",
       "      <td>7.4</td>\n",
       "      <td>1966</td>\n",
       "      <td>0.000000e+00</td>\n",
       "      <td>0.000000e+00</td>\n",
       "      <td>Documentary</td>\n",
       "      <td>None</td>\n",
       "      <td>Michael Hynson</td>\n",
       "      <td>Robert August</td>\n",
       "      <td>Bruce Brown</td>\n",
       "    </tr>\n",
       "    <tr>\n",
       "      <th>10727</th>\n",
       "      <td>0.065543</td>\n",
       "      <td>Grand Prix</td>\n",
       "      <td>176</td>\n",
       "      <td>12/21/66</td>\n",
       "      <td>20</td>\n",
       "      <td>5.7</td>\n",
       "      <td>1966</td>\n",
       "      <td>0.000000e+00</td>\n",
       "      <td>0.000000e+00</td>\n",
       "      <td>Action</td>\n",
       "      <td>Adventure</td>\n",
       "      <td>James Garner</td>\n",
       "      <td>Eva Marie Saint</td>\n",
       "      <td>John Frankenheimer</td>\n",
       "    </tr>\n",
       "    <tr>\n",
       "      <th>10728</th>\n",
       "      <td>0.065141</td>\n",
       "      <td>Beregis Avtomobilya</td>\n",
       "      <td>94</td>\n",
       "      <td>1/1/66</td>\n",
       "      <td>11</td>\n",
       "      <td>6.5</td>\n",
       "      <td>1966</td>\n",
       "      <td>0.000000e+00</td>\n",
       "      <td>0.000000e+00</td>\n",
       "      <td>Mystery</td>\n",
       "      <td>Comedy</td>\n",
       "      <td>Innokentiy Smoktunovskiy</td>\n",
       "      <td>Oleg Efremov</td>\n",
       "      <td>Eldar Ryazanov</td>\n",
       "    </tr>\n",
       "    <tr>\n",
       "      <th>10729</th>\n",
       "      <td>0.064317</td>\n",
       "      <td>What's Up, Tiger Lily?</td>\n",
       "      <td>80</td>\n",
       "      <td>11/2/66</td>\n",
       "      <td>22</td>\n",
       "      <td>5.4</td>\n",
       "      <td>1966</td>\n",
       "      <td>0.000000e+00</td>\n",
       "      <td>0.000000e+00</td>\n",
       "      <td>Action</td>\n",
       "      <td>Comedy</td>\n",
       "      <td>Tatsuya Mihashi</td>\n",
       "      <td>Akiko Wakabayashi</td>\n",
       "      <td>Woody Allen</td>\n",
       "    </tr>\n",
       "    <tr>\n",
       "      <th>10730</th>\n",
       "      <td>0.035919</td>\n",
       "      <td>Manos: The Hands of Fate</td>\n",
       "      <td>74</td>\n",
       "      <td>11/15/66</td>\n",
       "      <td>15</td>\n",
       "      <td>1.5</td>\n",
       "      <td>1966</td>\n",
       "      <td>1.276423e+05</td>\n",
       "      <td>0.000000e+00</td>\n",
       "      <td>Horror</td>\n",
       "      <td>None</td>\n",
       "      <td>Harold P. Warren</td>\n",
       "      <td>Tom Neyman</td>\n",
       "      <td>Harold P. Warren</td>\n",
       "    </tr>\n",
       "  </tbody>\n",
       "</table>\n",
       "<p>10731 rows × 14 columns</p>\n",
       "</div>"
      ],
      "text/plain": [
       "       popularity                original_title  runtime release_date  \\\n",
       "0       32.985763                Jurassic World      124       6/9/15   \n",
       "1       28.419936            Mad Max: Fury Road      120      5/13/15   \n",
       "2       13.112507                     Insurgent      119      3/18/15   \n",
       "3       11.173104  Star Wars: The Force Awakens      136     12/15/15   \n",
       "4        9.335014                     Furious 7      137       4/1/15   \n",
       "...           ...                           ...      ...          ...   \n",
       "10726    0.080598            The Endless Summer       95      6/15/66   \n",
       "10727    0.065543                    Grand Prix      176     12/21/66   \n",
       "10728    0.065141           Beregis Avtomobilya       94       1/1/66   \n",
       "10729    0.064317        What's Up, Tiger Lily?       80      11/2/66   \n",
       "10730    0.035919      Manos: The Hands of Fate       74     11/15/66   \n",
       "\n",
       "       vote_count  vote_average  release_year    budget_adj   revenue_adj  \\\n",
       "0            5562           6.5          2015  1.379999e+08  1.392446e+09   \n",
       "1            6185           7.1          2015  1.379999e+08  3.481613e+08   \n",
       "2            2480           6.3          2015  1.012000e+08  2.716190e+08   \n",
       "3            5292           7.5          2015  1.839999e+08  1.902723e+09   \n",
       "4            2947           7.3          2015  1.747999e+08  1.385749e+09   \n",
       "...           ...           ...           ...           ...           ...   \n",
       "10726          11           7.4          1966  0.000000e+00  0.000000e+00   \n",
       "10727          20           5.7          1966  0.000000e+00  0.000000e+00   \n",
       "10728          11           6.5          1966  0.000000e+00  0.000000e+00   \n",
       "10729          22           5.4          1966  0.000000e+00  0.000000e+00   \n",
       "10730          15           1.5          1966  1.276423e+05  0.000000e+00   \n",
       "\n",
       "        prim_genre     second_genre                prim_actor  \\\n",
       "0           Action        Adventure               Chris Pratt   \n",
       "1           Action        Adventure                 Tom Hardy   \n",
       "2        Adventure  Science Fiction          Shailene Woodley   \n",
       "3           Action        Adventure             Harrison Ford   \n",
       "4           Action            Crime                Vin Diesel   \n",
       "...            ...              ...                       ...   \n",
       "10726  Documentary             None            Michael Hynson   \n",
       "10727       Action        Adventure              James Garner   \n",
       "10728      Mystery           Comedy  Innokentiy Smoktunovskiy   \n",
       "10729       Action           Comedy           Tatsuya Mihashi   \n",
       "10730       Horror             None          Harold P. Warren   \n",
       "\n",
       "              second_actor       prim_director  \n",
       "0      Bryce Dallas Howard     Colin Trevorrow  \n",
       "1          Charlize Theron       George Miller  \n",
       "2               Theo James    Robert Schwentke  \n",
       "3              Mark Hamill         J.J. Abrams  \n",
       "4              Paul Walker           James Wan  \n",
       "...                    ...                 ...  \n",
       "10726        Robert August         Bruce Brown  \n",
       "10727      Eva Marie Saint  John Frankenheimer  \n",
       "10728         Oleg Efremov      Eldar Ryazanov  \n",
       "10729    Akiko Wakabayashi         Woody Allen  \n",
       "10730           Tom Neyman    Harold P. Warren  \n",
       "\n",
       "[10731 rows x 14 columns]"
      ]
     },
     "execution_count": 446,
     "metadata": {},
     "output_type": "execute_result"
    }
   ],
   "source": [
    "df"
   ]
  },
  {
   "cell_type": "markdown",
   "id": "6c1c719b",
   "metadata": {},
   "source": [
    "## 2. Manipulating Numerical Data:"
   ]
  },
  {
   "cell_type": "code",
   "execution_count": 447,
   "id": "e85574ee",
   "metadata": {},
   "outputs": [
    {
     "data": {
      "text/html": [
       "<div>\n",
       "<style scoped>\n",
       "    .dataframe tbody tr th:only-of-type {\n",
       "        vertical-align: middle;\n",
       "    }\n",
       "\n",
       "    .dataframe tbody tr th {\n",
       "        vertical-align: top;\n",
       "    }\n",
       "\n",
       "    .dataframe thead th {\n",
       "        text-align: right;\n",
       "    }\n",
       "</style>\n",
       "<table border=\"1\" class=\"dataframe\">\n",
       "  <thead>\n",
       "    <tr style=\"text-align: right;\">\n",
       "      <th></th>\n",
       "      <th>popularity</th>\n",
       "      <th>runtime</th>\n",
       "      <th>vote_count</th>\n",
       "      <th>vote_average</th>\n",
       "      <th>release_year</th>\n",
       "      <th>budget_adj</th>\n",
       "      <th>revenue_adj</th>\n",
       "    </tr>\n",
       "  </thead>\n",
       "  <tbody>\n",
       "    <tr>\n",
       "      <th>count</th>\n",
       "      <td>10731.000000</td>\n",
       "      <td>10731.000000</td>\n",
       "      <td>10731.000000</td>\n",
       "      <td>10731.000000</td>\n",
       "      <td>10731.000000</td>\n",
       "      <td>1.073100e+04</td>\n",
       "      <td>1.073100e+04</td>\n",
       "    </tr>\n",
       "    <tr>\n",
       "      <th>mean</th>\n",
       "      <td>0.652615</td>\n",
       "      <td>102.468829</td>\n",
       "      <td>219.812972</td>\n",
       "      <td>5.964710</td>\n",
       "      <td>2001.259622</td>\n",
       "      <td>1.776530e+07</td>\n",
       "      <td>5.200623e+07</td>\n",
       "    </tr>\n",
       "    <tr>\n",
       "      <th>std</th>\n",
       "      <td>1.004804</td>\n",
       "      <td>30.493873</td>\n",
       "      <td>578.815324</td>\n",
       "      <td>0.930283</td>\n",
       "      <td>12.820151</td>\n",
       "      <td>3.446630e+07</td>\n",
       "      <td>1.454252e+08</td>\n",
       "    </tr>\n",
       "    <tr>\n",
       "      <th>min</th>\n",
       "      <td>0.000188</td>\n",
       "      <td>0.000000</td>\n",
       "      <td>10.000000</td>\n",
       "      <td>1.500000</td>\n",
       "      <td>1960.000000</td>\n",
       "      <td>0.000000e+00</td>\n",
       "      <td>0.000000e+00</td>\n",
       "    </tr>\n",
       "    <tr>\n",
       "      <th>25%</th>\n",
       "      <td>0.210765</td>\n",
       "      <td>90.000000</td>\n",
       "      <td>17.000000</td>\n",
       "      <td>5.400000</td>\n",
       "      <td>1995.000000</td>\n",
       "      <td>0.000000e+00</td>\n",
       "      <td>0.000000e+00</td>\n",
       "    </tr>\n",
       "    <tr>\n",
       "      <th>50%</th>\n",
       "      <td>0.387081</td>\n",
       "      <td>99.000000</td>\n",
       "      <td>39.000000</td>\n",
       "      <td>6.000000</td>\n",
       "      <td>2006.000000</td>\n",
       "      <td>0.000000e+00</td>\n",
       "      <td>0.000000e+00</td>\n",
       "    </tr>\n",
       "    <tr>\n",
       "      <th>75%</th>\n",
       "      <td>0.720889</td>\n",
       "      <td>112.000000</td>\n",
       "      <td>148.000000</td>\n",
       "      <td>6.600000</td>\n",
       "      <td>2011.000000</td>\n",
       "      <td>2.110885e+07</td>\n",
       "      <td>3.470546e+07</td>\n",
       "    </tr>\n",
       "    <tr>\n",
       "      <th>max</th>\n",
       "      <td>32.985763</td>\n",
       "      <td>900.000000</td>\n",
       "      <td>9767.000000</td>\n",
       "      <td>9.200000</td>\n",
       "      <td>2015.000000</td>\n",
       "      <td>4.250000e+08</td>\n",
       "      <td>2.827124e+09</td>\n",
       "    </tr>\n",
       "  </tbody>\n",
       "</table>\n",
       "</div>"
      ],
      "text/plain": [
       "         popularity       runtime    vote_count  vote_average  release_year  \\\n",
       "count  10731.000000  10731.000000  10731.000000  10731.000000  10731.000000   \n",
       "mean       0.652615    102.468829    219.812972      5.964710   2001.259622   \n",
       "std        1.004804     30.493873    578.815324      0.930283     12.820151   \n",
       "min        0.000188      0.000000     10.000000      1.500000   1960.000000   \n",
       "25%        0.210765     90.000000     17.000000      5.400000   1995.000000   \n",
       "50%        0.387081     99.000000     39.000000      6.000000   2006.000000   \n",
       "75%        0.720889    112.000000    148.000000      6.600000   2011.000000   \n",
       "max       32.985763    900.000000   9767.000000      9.200000   2015.000000   \n",
       "\n",
       "         budget_adj   revenue_adj  \n",
       "count  1.073100e+04  1.073100e+04  \n",
       "mean   1.776530e+07  5.200623e+07  \n",
       "std    3.446630e+07  1.454252e+08  \n",
       "min    0.000000e+00  0.000000e+00  \n",
       "25%    0.000000e+00  0.000000e+00  \n",
       "50%    0.000000e+00  0.000000e+00  \n",
       "75%    2.110885e+07  3.470546e+07  \n",
       "max    4.250000e+08  2.827124e+09  "
      ]
     },
     "execution_count": 447,
     "metadata": {},
     "output_type": "execute_result"
    }
   ],
   "source": [
    "df.describe()"
   ]
  },
  {
   "cell_type": "markdown",
   "id": "52ad6608",
   "metadata": {},
   "source": [
    "### 2.1 Profit = revenue - budget\n",
    "Append a new column with the profit of each movie to use in data analysis"
   ]
  },
  {
   "cell_type": "code",
   "execution_count": 448,
   "id": "a36cef42",
   "metadata": {
    "scrolled": true
   },
   "outputs": [],
   "source": [
    "df['profit_adj'] = df['revenue_adj'] - df['budget_adj']"
   ]
  },
  {
   "cell_type": "markdown",
   "id": "cf696450",
   "metadata": {},
   "source": [
    "### 2.2 Parsing Date\n",
    "Change date dtype from object to datetime using pandas, to extract any day, month or year we want using pandas built-in functions like: dt.day, dt.year, dt.month"
   ]
  },
  {
   "cell_type": "code",
   "execution_count": 449,
   "id": "40e60f21",
   "metadata": {},
   "outputs": [],
   "source": [
    "#first change the release year column to str, to use it in making parsing date\n",
    "df['release_year'] = df['release_year'].astype(str)"
   ]
  },
  {
   "cell_type": "code",
   "execution_count": 450,
   "id": "25abdef9",
   "metadata": {},
   "outputs": [],
   "source": [
    "#make a new series, with the new date formate as following:\n",
    "date_df = df['release_date'].str[:-2] + df['release_year']"
   ]
  },
  {
   "cell_type": "code",
   "execution_count": 451,
   "id": "e3fa9b30",
   "metadata": {},
   "outputs": [
    {
     "data": {
      "text/plain": [
       "0          6/9/2015\n",
       "1         5/13/2015\n",
       "2         3/18/2015\n",
       "3        12/15/2015\n",
       "4          4/1/2015\n",
       "            ...    \n",
       "10726     6/15/1966\n",
       "10727    12/21/1966\n",
       "10728      1/1/1966\n",
       "10729     11/2/1966\n",
       "10730    11/15/1966\n",
       "Length: 10731, dtype: object"
      ]
     },
     "execution_count": 451,
     "metadata": {},
     "output_type": "execute_result"
    }
   ],
   "source": [
    "date_df"
   ]
  },
  {
   "cell_type": "code",
   "execution_count": 452,
   "id": "e3d70f58",
   "metadata": {},
   "outputs": [],
   "source": [
    "#use pandas datetime function to make a datetime type column\n",
    "date_df = pd.to_datetime(date_df, format=\"%m/%d/%Y\")"
   ]
  },
  {
   "cell_type": "code",
   "execution_count": 453,
   "id": "41e7bad7",
   "metadata": {},
   "outputs": [
    {
     "data": {
      "text/plain": [
       "0       2015-06-09\n",
       "1       2015-05-13\n",
       "2       2015-03-18\n",
       "3       2015-12-15\n",
       "4       2015-04-01\n",
       "           ...    \n",
       "10726   1966-06-15\n",
       "10727   1966-12-21\n",
       "10728   1966-01-01\n",
       "10729   1966-11-02\n",
       "10730   1966-11-15\n",
       "Length: 10731, dtype: datetime64[ns]"
      ]
     },
     "execution_count": 453,
     "metadata": {},
     "output_type": "execute_result"
    }
   ],
   "source": [
    "date_df"
   ]
  },
  {
   "cell_type": "code",
   "execution_count": 454,
   "id": "9aa6b602",
   "metadata": {},
   "outputs": [],
   "source": [
    "#drop the old release date column (unformatted one)\n",
    "df.drop('release_date', axis=1, inplace=True)"
   ]
  },
  {
   "cell_type": "code",
   "execution_count": 455,
   "id": "9c924331",
   "metadata": {},
   "outputs": [],
   "source": [
    "#create new column with datetime format\n",
    "df['release_date'] = date_df"
   ]
  },
  {
   "cell_type": "code",
   "execution_count": 456,
   "id": "6aa38fad",
   "metadata": {
    "scrolled": true
   },
   "outputs": [],
   "source": [
    "#drop release year column, as the full info about date is now in release date column, you can extract year using df[[].dt.year\n",
    "df.drop('release_year', axis=1, inplace=True)"
   ]
  },
  {
   "cell_type": "code",
   "execution_count": 457,
   "id": "5a5735f4",
   "metadata": {},
   "outputs": [
    {
     "data": {
      "text/plain": [
       "0        2015\n",
       "1        2015\n",
       "2        2015\n",
       "3        2015\n",
       "4        2015\n",
       "         ... \n",
       "10726    1966\n",
       "10727    1966\n",
       "10728    1966\n",
       "10729    1966\n",
       "10730    1966\n",
       "Name: release_date, Length: 10731, dtype: int64"
      ]
     },
     "execution_count": 457,
     "metadata": {},
     "output_type": "execute_result"
    }
   ],
   "source": [
    "#as following\n",
    "df['release_date'].dt.year"
   ]
  },
  {
   "cell_type": "code",
   "execution_count": 458,
   "id": "0adadaad",
   "metadata": {},
   "outputs": [
    {
     "name": "stdout",
     "output_type": "stream",
     "text": [
      "<class 'pandas.core.frame.DataFrame'>\n",
      "RangeIndex: 10731 entries, 0 to 10730\n",
      "Data columns (total 14 columns):\n",
      " #   Column          Non-Null Count  Dtype         \n",
      "---  ------          --------------  -----         \n",
      " 0   popularity      10731 non-null  float64       \n",
      " 1   original_title  10731 non-null  object        \n",
      " 2   runtime         10731 non-null  int64         \n",
      " 3   vote_count      10731 non-null  int64         \n",
      " 4   vote_average    10731 non-null  float64       \n",
      " 5   budget_adj      10731 non-null  float64       \n",
      " 6   revenue_adj     10731 non-null  float64       \n",
      " 7   prim_genre      10731 non-null  object        \n",
      " 8   second_genre    8460 non-null   object        \n",
      " 9   prim_actor      10731 non-null  object        \n",
      " 10  second_actor    10594 non-null  object        \n",
      " 11  prim_director   10731 non-null  object        \n",
      " 12  profit_adj      10731 non-null  float64       \n",
      " 13  release_date    10731 non-null  datetime64[ns]\n",
      "dtypes: datetime64[ns](1), float64(5), int64(2), object(6)\n",
      "memory usage: 1.1+ MB\n"
     ]
    }
   ],
   "source": [
    "#now dtype of release_date column has changed from object to datetime \n",
    "df.info()"
   ]
  },
  {
   "cell_type": "code",
   "execution_count": 459,
   "id": "1c16ab82",
   "metadata": {},
   "outputs": [
    {
     "data": {
      "text/html": [
       "<div>\n",
       "<style scoped>\n",
       "    .dataframe tbody tr th:only-of-type {\n",
       "        vertical-align: middle;\n",
       "    }\n",
       "\n",
       "    .dataframe tbody tr th {\n",
       "        vertical-align: top;\n",
       "    }\n",
       "\n",
       "    .dataframe thead th {\n",
       "        text-align: right;\n",
       "    }\n",
       "</style>\n",
       "<table border=\"1\" class=\"dataframe\">\n",
       "  <thead>\n",
       "    <tr style=\"text-align: right;\">\n",
       "      <th></th>\n",
       "      <th>popularity</th>\n",
       "      <th>original_title</th>\n",
       "      <th>runtime</th>\n",
       "      <th>vote_count</th>\n",
       "      <th>vote_average</th>\n",
       "      <th>budget_adj</th>\n",
       "      <th>revenue_adj</th>\n",
       "      <th>prim_genre</th>\n",
       "      <th>second_genre</th>\n",
       "      <th>prim_actor</th>\n",
       "      <th>second_actor</th>\n",
       "      <th>prim_director</th>\n",
       "      <th>profit_adj</th>\n",
       "      <th>release_date</th>\n",
       "    </tr>\n",
       "  </thead>\n",
       "  <tbody>\n",
       "    <tr>\n",
       "      <th>0</th>\n",
       "      <td>32.985763</td>\n",
       "      <td>Jurassic World</td>\n",
       "      <td>124</td>\n",
       "      <td>5562</td>\n",
       "      <td>6.5</td>\n",
       "      <td>1.379999e+08</td>\n",
       "      <td>1.392446e+09</td>\n",
       "      <td>Action</td>\n",
       "      <td>Adventure</td>\n",
       "      <td>Chris Pratt</td>\n",
       "      <td>Bryce Dallas Howard</td>\n",
       "      <td>Colin Trevorrow</td>\n",
       "      <td>1.254446e+09</td>\n",
       "      <td>2015-06-09</td>\n",
       "    </tr>\n",
       "    <tr>\n",
       "      <th>1</th>\n",
       "      <td>28.419936</td>\n",
       "      <td>Mad Max: Fury Road</td>\n",
       "      <td>120</td>\n",
       "      <td>6185</td>\n",
       "      <td>7.1</td>\n",
       "      <td>1.379999e+08</td>\n",
       "      <td>3.481613e+08</td>\n",
       "      <td>Action</td>\n",
       "      <td>Adventure</td>\n",
       "      <td>Tom Hardy</td>\n",
       "      <td>Charlize Theron</td>\n",
       "      <td>George Miller</td>\n",
       "      <td>2.101614e+08</td>\n",
       "      <td>2015-05-13</td>\n",
       "    </tr>\n",
       "    <tr>\n",
       "      <th>2</th>\n",
       "      <td>13.112507</td>\n",
       "      <td>Insurgent</td>\n",
       "      <td>119</td>\n",
       "      <td>2480</td>\n",
       "      <td>6.3</td>\n",
       "      <td>1.012000e+08</td>\n",
       "      <td>2.716190e+08</td>\n",
       "      <td>Adventure</td>\n",
       "      <td>Science Fiction</td>\n",
       "      <td>Shailene Woodley</td>\n",
       "      <td>Theo James</td>\n",
       "      <td>Robert Schwentke</td>\n",
       "      <td>1.704191e+08</td>\n",
       "      <td>2015-03-18</td>\n",
       "    </tr>\n",
       "    <tr>\n",
       "      <th>3</th>\n",
       "      <td>11.173104</td>\n",
       "      <td>Star Wars: The Force Awakens</td>\n",
       "      <td>136</td>\n",
       "      <td>5292</td>\n",
       "      <td>7.5</td>\n",
       "      <td>1.839999e+08</td>\n",
       "      <td>1.902723e+09</td>\n",
       "      <td>Action</td>\n",
       "      <td>Adventure</td>\n",
       "      <td>Harrison Ford</td>\n",
       "      <td>Mark Hamill</td>\n",
       "      <td>J.J. Abrams</td>\n",
       "      <td>1.718723e+09</td>\n",
       "      <td>2015-12-15</td>\n",
       "    </tr>\n",
       "    <tr>\n",
       "      <th>4</th>\n",
       "      <td>9.335014</td>\n",
       "      <td>Furious 7</td>\n",
       "      <td>137</td>\n",
       "      <td>2947</td>\n",
       "      <td>7.3</td>\n",
       "      <td>1.747999e+08</td>\n",
       "      <td>1.385749e+09</td>\n",
       "      <td>Action</td>\n",
       "      <td>Crime</td>\n",
       "      <td>Vin Diesel</td>\n",
       "      <td>Paul Walker</td>\n",
       "      <td>James Wan</td>\n",
       "      <td>1.210949e+09</td>\n",
       "      <td>2015-04-01</td>\n",
       "    </tr>\n",
       "  </tbody>\n",
       "</table>\n",
       "</div>"
      ],
      "text/plain": [
       "   popularity                original_title  runtime  vote_count  \\\n",
       "0   32.985763                Jurassic World      124        5562   \n",
       "1   28.419936            Mad Max: Fury Road      120        6185   \n",
       "2   13.112507                     Insurgent      119        2480   \n",
       "3   11.173104  Star Wars: The Force Awakens      136        5292   \n",
       "4    9.335014                     Furious 7      137        2947   \n",
       "\n",
       "   vote_average    budget_adj   revenue_adj prim_genre     second_genre  \\\n",
       "0           6.5  1.379999e+08  1.392446e+09     Action        Adventure   \n",
       "1           7.1  1.379999e+08  3.481613e+08     Action        Adventure   \n",
       "2           6.3  1.012000e+08  2.716190e+08  Adventure  Science Fiction   \n",
       "3           7.5  1.839999e+08  1.902723e+09     Action        Adventure   \n",
       "4           7.3  1.747999e+08  1.385749e+09     Action            Crime   \n",
       "\n",
       "         prim_actor         second_actor     prim_director    profit_adj  \\\n",
       "0       Chris Pratt  Bryce Dallas Howard   Colin Trevorrow  1.254446e+09   \n",
       "1         Tom Hardy      Charlize Theron     George Miller  2.101614e+08   \n",
       "2  Shailene Woodley           Theo James  Robert Schwentke  1.704191e+08   \n",
       "3     Harrison Ford          Mark Hamill       J.J. Abrams  1.718723e+09   \n",
       "4        Vin Diesel          Paul Walker         James Wan  1.210949e+09   \n",
       "\n",
       "  release_date  \n",
       "0   2015-06-09  \n",
       "1   2015-05-13  \n",
       "2   2015-03-18  \n",
       "3   2015-12-15  \n",
       "4   2015-04-01  "
      ]
     },
     "execution_count": 459,
     "metadata": {},
     "output_type": "execute_result"
    }
   ],
   "source": [
    "df.head()"
   ]
  },
  {
   "cell_type": "markdown",
   "id": "a43ea7e3",
   "metadata": {},
   "source": [
    "### 2.3 Converting runtime to categorical data\n",
    "to get a short/long movie indicator, i can use it in my analysis"
   ]
  },
  {
   "cell_type": "code",
   "execution_count": 460,
   "id": "6f23f56d",
   "metadata": {},
   "outputs": [
    {
     "data": {
      "text/plain": [
       "<AxesSubplot:>"
      ]
     },
     "execution_count": 460,
     "metadata": {},
     "output_type": "execute_result"
    },
    {
     "data": {
      "image/png": "[encoded data removed]",
      "text/plain": [
       "<Figure size 432x288 with 1 Axes>"
      ]
     },
     "metadata": {
      "needs_background": "light"
     },
     "output_type": "display_data"
    }
   ],
   "source": [
    "df['runtime'].hist()\n",
    "#i will use the median not the mean as my data is right skewed"
   ]
  },
  {
   "cell_type": "code",
   "execution_count": 461,
   "id": "bcd0d848",
   "metadata": {},
   "outputs": [
    {
     "name": "stderr",
     "output_type": "stream",
     "text": [
      "<ipython-input-461-967ca267c450>:3: DeprecationWarning: The default dtype for empty Series will be 'object' instead of 'float64' in a future version. Specify a dtype explicitly to silence this warning.\n",
      "  df['movie_duration'] = pd.Series([])\n"
     ]
    }
   ],
   "source": [
    "short_movies = df[df['runtime'] <= df['runtime'].median()]\n",
    "long_movies = df[df['runtime'] > df['runtime'].median()]\n",
    "df['movie_duration'] = pd.Series([])"
   ]
  },
  {
   "cell_type": "code",
   "execution_count": 462,
   "id": "567d30fc",
   "metadata": {},
   "outputs": [],
   "source": [
    "df.loc[short_movies.index, 'movie_duration'] = 'short_movie'\n",
    "df.loc[long_movies.index, 'movie_duration'] = 'long_movie'"
   ]
  },
  {
   "cell_type": "markdown",
   "id": "34f8c8ef",
   "metadata": {},
   "source": [
    "### 2.4 Vote count normalization, to get a standard vote average, depending on number of total votes\n",
    "if we use the given data of average votes, that will be unfair, there is a factor we mustn't ignore, the factor of votes count\n",
    "so we normalize this factor and multiply it wil vote average to get the pure/real average votes (adjacent)"
   ]
  },
  {
   "cell_type": "code",
   "execution_count": 463,
   "id": "f6747698",
   "metadata": {
    "scrolled": true
   },
   "outputs": [
    {
     "data": {
      "text/html": [
       "<div>\n",
       "<style scoped>\n",
       "    .dataframe tbody tr th:only-of-type {\n",
       "        vertical-align: middle;\n",
       "    }\n",
       "\n",
       "    .dataframe tbody tr th {\n",
       "        vertical-align: top;\n",
       "    }\n",
       "\n",
       "    .dataframe thead th {\n",
       "        text-align: right;\n",
       "    }\n",
       "</style>\n",
       "<table border=\"1\" class=\"dataframe\">\n",
       "  <thead>\n",
       "    <tr style=\"text-align: right;\">\n",
       "      <th></th>\n",
       "      <th>popularity</th>\n",
       "      <th>original_title</th>\n",
       "      <th>runtime</th>\n",
       "      <th>vote_count</th>\n",
       "      <th>vote_average</th>\n",
       "      <th>budget_adj</th>\n",
       "      <th>revenue_adj</th>\n",
       "      <th>prim_genre</th>\n",
       "      <th>second_genre</th>\n",
       "      <th>prim_actor</th>\n",
       "      <th>second_actor</th>\n",
       "      <th>prim_director</th>\n",
       "      <th>profit_adj</th>\n",
       "      <th>release_date</th>\n",
       "      <th>movie_duration</th>\n",
       "      <th>vote_adj</th>\n",
       "    </tr>\n",
       "  </thead>\n",
       "  <tbody>\n",
       "    <tr>\n",
       "      <th>0</th>\n",
       "      <td>32.985763</td>\n",
       "      <td>Jurassic World</td>\n",
       "      <td>124</td>\n",
       "      <td>5562</td>\n",
       "      <td>6.5</td>\n",
       "      <td>1.379999e+08</td>\n",
       "      <td>1.392446e+09</td>\n",
       "      <td>Action</td>\n",
       "      <td>Adventure</td>\n",
       "      <td>Chris Pratt</td>\n",
       "      <td>Bryce Dallas Howard</td>\n",
       "      <td>Colin Trevorrow</td>\n",
       "      <td>1.254446e+09</td>\n",
       "      <td>2015-06-09</td>\n",
       "      <td>long_movie</td>\n",
       "      <td>3.698678</td>\n",
       "    </tr>\n",
       "    <tr>\n",
       "      <th>1</th>\n",
       "      <td>28.419936</td>\n",
       "      <td>Mad Max: Fury Road</td>\n",
       "      <td>120</td>\n",
       "      <td>6185</td>\n",
       "      <td>7.1</td>\n",
       "      <td>1.379999e+08</td>\n",
       "      <td>3.481613e+08</td>\n",
       "      <td>Action</td>\n",
       "      <td>Adventure</td>\n",
       "      <td>Tom Hardy</td>\n",
       "      <td>Charlize Theron</td>\n",
       "      <td>George Miller</td>\n",
       "      <td>2.101614e+08</td>\n",
       "      <td>2015-05-13</td>\n",
       "      <td>long_movie</td>\n",
       "      <td>4.493441</td>\n",
       "    </tr>\n",
       "    <tr>\n",
       "      <th>2</th>\n",
       "      <td>13.112507</td>\n",
       "      <td>Insurgent</td>\n",
       "      <td>119</td>\n",
       "      <td>2480</td>\n",
       "      <td>6.3</td>\n",
       "      <td>1.012000e+08</td>\n",
       "      <td>2.716190e+08</td>\n",
       "      <td>Adventure</td>\n",
       "      <td>Science Fiction</td>\n",
       "      <td>Shailene Woodley</td>\n",
       "      <td>Theo James</td>\n",
       "      <td>Robert Schwentke</td>\n",
       "      <td>1.704191e+08</td>\n",
       "      <td>2015-03-18</td>\n",
       "      <td>long_movie</td>\n",
       "      <td>1.594855</td>\n",
       "    </tr>\n",
       "    <tr>\n",
       "      <th>3</th>\n",
       "      <td>11.173104</td>\n",
       "      <td>Star Wars: The Force Awakens</td>\n",
       "      <td>136</td>\n",
       "      <td>5292</td>\n",
       "      <td>7.5</td>\n",
       "      <td>1.839999e+08</td>\n",
       "      <td>1.902723e+09</td>\n",
       "      <td>Action</td>\n",
       "      <td>Adventure</td>\n",
       "      <td>Harrison Ford</td>\n",
       "      <td>Mark Hamill</td>\n",
       "      <td>J.J. Abrams</td>\n",
       "      <td>1.718723e+09</td>\n",
       "      <td>2015-12-15</td>\n",
       "      <td>long_movie</td>\n",
       "      <td>4.060162</td>\n",
       "    </tr>\n",
       "    <tr>\n",
       "      <th>4</th>\n",
       "      <td>9.335014</td>\n",
       "      <td>Furious 7</td>\n",
       "      <td>137</td>\n",
       "      <td>2947</td>\n",
       "      <td>7.3</td>\n",
       "      <td>1.747999e+08</td>\n",
       "      <td>1.385749e+09</td>\n",
       "      <td>Action</td>\n",
       "      <td>Crime</td>\n",
       "      <td>Vin Diesel</td>\n",
       "      <td>Paul Walker</td>\n",
       "      <td>James Wan</td>\n",
       "      <td>1.210949e+09</td>\n",
       "      <td>2015-04-01</td>\n",
       "      <td>long_movie</td>\n",
       "      <td>2.197407</td>\n",
       "    </tr>\n",
       "    <tr>\n",
       "      <th>...</th>\n",
       "      <td>...</td>\n",
       "      <td>...</td>\n",
       "      <td>...</td>\n",
       "      <td>...</td>\n",
       "      <td>...</td>\n",
       "      <td>...</td>\n",
       "      <td>...</td>\n",
       "      <td>...</td>\n",
       "      <td>...</td>\n",
       "      <td>...</td>\n",
       "      <td>...</td>\n",
       "      <td>...</td>\n",
       "      <td>...</td>\n",
       "      <td>...</td>\n",
       "      <td>...</td>\n",
       "      <td>...</td>\n",
       "    </tr>\n",
       "    <tr>\n",
       "      <th>10726</th>\n",
       "      <td>0.080598</td>\n",
       "      <td>The Endless Summer</td>\n",
       "      <td>95</td>\n",
       "      <td>11</td>\n",
       "      <td>7.4</td>\n",
       "      <td>0.000000e+00</td>\n",
       "      <td>0.000000e+00</td>\n",
       "      <td>Documentary</td>\n",
       "      <td>None</td>\n",
       "      <td>Michael Hynson</td>\n",
       "      <td>Robert August</td>\n",
       "      <td>Bruce Brown</td>\n",
       "      <td>0.000000e+00</td>\n",
       "      <td>1966-06-15</td>\n",
       "      <td>short_movie</td>\n",
       "      <td>0.000758</td>\n",
       "    </tr>\n",
       "    <tr>\n",
       "      <th>10727</th>\n",
       "      <td>0.065543</td>\n",
       "      <td>Grand Prix</td>\n",
       "      <td>176</td>\n",
       "      <td>20</td>\n",
       "      <td>5.7</td>\n",
       "      <td>0.000000e+00</td>\n",
       "      <td>0.000000e+00</td>\n",
       "      <td>Action</td>\n",
       "      <td>Adventure</td>\n",
       "      <td>James Garner</td>\n",
       "      <td>Eva Marie Saint</td>\n",
       "      <td>John Frankenheimer</td>\n",
       "      <td>0.000000e+00</td>\n",
       "      <td>1966-12-21</td>\n",
       "      <td>long_movie</td>\n",
       "      <td>0.005842</td>\n",
       "    </tr>\n",
       "    <tr>\n",
       "      <th>10728</th>\n",
       "      <td>0.065141</td>\n",
       "      <td>Beregis Avtomobilya</td>\n",
       "      <td>94</td>\n",
       "      <td>11</td>\n",
       "      <td>6.5</td>\n",
       "      <td>0.000000e+00</td>\n",
       "      <td>0.000000e+00</td>\n",
       "      <td>Mystery</td>\n",
       "      <td>Comedy</td>\n",
       "      <td>Innokentiy Smoktunovskiy</td>\n",
       "      <td>Oleg Efremov</td>\n",
       "      <td>Eldar Ryazanov</td>\n",
       "      <td>0.000000e+00</td>\n",
       "      <td>1966-01-01</td>\n",
       "      <td>short_movie</td>\n",
       "      <td>0.000666</td>\n",
       "    </tr>\n",
       "    <tr>\n",
       "      <th>10729</th>\n",
       "      <td>0.064317</td>\n",
       "      <td>What's Up, Tiger Lily?</td>\n",
       "      <td>80</td>\n",
       "      <td>22</td>\n",
       "      <td>5.4</td>\n",
       "      <td>0.000000e+00</td>\n",
       "      <td>0.000000e+00</td>\n",
       "      <td>Action</td>\n",
       "      <td>Comedy</td>\n",
       "      <td>Tatsuya Mihashi</td>\n",
       "      <td>Akiko Wakabayashi</td>\n",
       "      <td>Woody Allen</td>\n",
       "      <td>0.000000e+00</td>\n",
       "      <td>1966-11-02</td>\n",
       "      <td>short_movie</td>\n",
       "      <td>0.006641</td>\n",
       "    </tr>\n",
       "    <tr>\n",
       "      <th>10730</th>\n",
       "      <td>0.035919</td>\n",
       "      <td>Manos: The Hands of Fate</td>\n",
       "      <td>74</td>\n",
       "      <td>15</td>\n",
       "      <td>1.5</td>\n",
       "      <td>1.276423e+05</td>\n",
       "      <td>0.000000e+00</td>\n",
       "      <td>Horror</td>\n",
       "      <td>None</td>\n",
       "      <td>Harold P. Warren</td>\n",
       "      <td>Tom Neyman</td>\n",
       "      <td>Harold P. Warren</td>\n",
       "      <td>-1.276423e+05</td>\n",
       "      <td>1966-11-15</td>\n",
       "      <td>short_movie</td>\n",
       "      <td>0.000769</td>\n",
       "    </tr>\n",
       "  </tbody>\n",
       "</table>\n",
       "<p>10731 rows × 16 columns</p>\n",
       "</div>"
      ],
      "text/plain": [
       "       popularity                original_title  runtime  vote_count  \\\n",
       "0       32.985763                Jurassic World      124        5562   \n",
       "1       28.419936            Mad Max: Fury Road      120        6185   \n",
       "2       13.112507                     Insurgent      119        2480   \n",
       "3       11.173104  Star Wars: The Force Awakens      136        5292   \n",
       "4        9.335014                     Furious 7      137        2947   \n",
       "...           ...                           ...      ...         ...   \n",
       "10726    0.080598            The Endless Summer       95          11   \n",
       "10727    0.065543                    Grand Prix      176          20   \n",
       "10728    0.065141           Beregis Avtomobilya       94          11   \n",
       "10729    0.064317        What's Up, Tiger Lily?       80          22   \n",
       "10730    0.035919      Manos: The Hands of Fate       74          15   \n",
       "\n",
       "       vote_average    budget_adj   revenue_adj   prim_genre     second_genre  \\\n",
       "0               6.5  1.379999e+08  1.392446e+09       Action        Adventure   \n",
       "1               7.1  1.379999e+08  3.481613e+08       Action        Adventure   \n",
       "2               6.3  1.012000e+08  2.716190e+08    Adventure  Science Fiction   \n",
       "3               7.5  1.839999e+08  1.902723e+09       Action        Adventure   \n",
       "4               7.3  1.747999e+08  1.385749e+09       Action            Crime   \n",
       "...             ...           ...           ...          ...              ...   \n",
       "10726           7.4  0.000000e+00  0.000000e+00  Documentary             None   \n",
       "10727           5.7  0.000000e+00  0.000000e+00       Action        Adventure   \n",
       "10728           6.5  0.000000e+00  0.000000e+00      Mystery           Comedy   \n",
       "10729           5.4  0.000000e+00  0.000000e+00       Action           Comedy   \n",
       "10730           1.5  1.276423e+05  0.000000e+00       Horror             None   \n",
       "\n",
       "                     prim_actor         second_actor       prim_director  \\\n",
       "0                   Chris Pratt  Bryce Dallas Howard     Colin Trevorrow   \n",
       "1                     Tom Hardy      Charlize Theron       George Miller   \n",
       "2              Shailene Woodley           Theo James    Robert Schwentke   \n",
       "3                 Harrison Ford          Mark Hamill         J.J. Abrams   \n",
       "4                    Vin Diesel          Paul Walker           James Wan   \n",
       "...                         ...                  ...                 ...   \n",
       "10726            Michael Hynson        Robert August         Bruce Brown   \n",
       "10727              James Garner      Eva Marie Saint  John Frankenheimer   \n",
       "10728  Innokentiy Smoktunovskiy         Oleg Efremov      Eldar Ryazanov   \n",
       "10729           Tatsuya Mihashi    Akiko Wakabayashi         Woody Allen   \n",
       "10730          Harold P. Warren           Tom Neyman    Harold P. Warren   \n",
       "\n",
       "         profit_adj release_date movie_duration  vote_adj  \n",
       "0      1.254446e+09   2015-06-09     long_movie  3.698678  \n",
       "1      2.101614e+08   2015-05-13     long_movie  4.493441  \n",
       "2      1.704191e+08   2015-03-18     long_movie  1.594855  \n",
       "3      1.718723e+09   2015-12-15     long_movie  4.060162  \n",
       "4      1.210949e+09   2015-04-01     long_movie  2.197407  \n",
       "...             ...          ...            ...       ...  \n",
       "10726  0.000000e+00   1966-06-15    short_movie  0.000758  \n",
       "10727  0.000000e+00   1966-12-21     long_movie  0.005842  \n",
       "10728  0.000000e+00   1966-01-01    short_movie  0.000666  \n",
       "10729  0.000000e+00   1966-11-02    short_movie  0.006641  \n",
       "10730 -1.276423e+05   1966-11-15    short_movie  0.000769  \n",
       "\n",
       "[10731 rows x 16 columns]"
      ]
     },
     "execution_count": 463,
     "metadata": {},
     "output_type": "execute_result"
    }
   ],
   "source": [
    "df['vote_adj'] = ((df['vote_count'] - df['vote_count'].min()) / (df['vote_count'].max() - df['vote_count'].min())) * df['vote_average']\n",
    "df"
   ]
  },
  {
   "cell_type": "markdown",
   "id": "9305d166",
   "metadata": {},
   "source": [
    "### Let's take a look\n",
    "1: vote_average test, seems to be depending on the vote average only, ignoring the vote count (number of people who participate in the vote)\n",
    "\n",
    "2: in the other hand, and after normalization, vote adj took into account the number of people who voted,,\n",
    "that's cool and more realistic\n",
    "\n",
    "for sure, Interstaller, Avatar and Inception is higher in rate than Jurassic World, Mad Max and Insurgent"
   ]
  },
  {
   "cell_type": "code",
   "execution_count": 464,
   "id": "6c26e9c0",
   "metadata": {},
   "outputs": [
    {
     "data": {
      "text/html": [
       "<div>\n",
       "<style scoped>\n",
       "    .dataframe tbody tr th:only-of-type {\n",
       "        vertical-align: middle;\n",
       "    }\n",
       "\n",
       "    .dataframe tbody tr th {\n",
       "        vertical-align: top;\n",
       "    }\n",
       "\n",
       "    .dataframe thead th {\n",
       "        text-align: right;\n",
       "    }\n",
       "</style>\n",
       "<table border=\"1\" class=\"dataframe\">\n",
       "  <thead>\n",
       "    <tr style=\"text-align: right;\">\n",
       "      <th></th>\n",
       "      <th>popularity</th>\n",
       "      <th>original_title</th>\n",
       "      <th>runtime</th>\n",
       "      <th>vote_count</th>\n",
       "      <th>vote_average</th>\n",
       "      <th>budget_adj</th>\n",
       "      <th>revenue_adj</th>\n",
       "      <th>prim_genre</th>\n",
       "      <th>second_genre</th>\n",
       "      <th>prim_actor</th>\n",
       "      <th>second_actor</th>\n",
       "      <th>prim_director</th>\n",
       "      <th>profit_adj</th>\n",
       "      <th>release_date</th>\n",
       "      <th>movie_duration</th>\n",
       "      <th>vote_adj</th>\n",
       "    </tr>\n",
       "  </thead>\n",
       "  <tbody>\n",
       "    <tr>\n",
       "      <th>0</th>\n",
       "      <td>32.985763</td>\n",
       "      <td>Jurassic World</td>\n",
       "      <td>124</td>\n",
       "      <td>5562</td>\n",
       "      <td>6.5</td>\n",
       "      <td>1.379999e+08</td>\n",
       "      <td>1.392446e+09</td>\n",
       "      <td>Action</td>\n",
       "      <td>Adventure</td>\n",
       "      <td>Chris Pratt</td>\n",
       "      <td>Bryce Dallas Howard</td>\n",
       "      <td>Colin Trevorrow</td>\n",
       "      <td>1.254446e+09</td>\n",
       "      <td>2015-06-09</td>\n",
       "      <td>long_movie</td>\n",
       "      <td>3.698678</td>\n",
       "    </tr>\n",
       "    <tr>\n",
       "      <th>1</th>\n",
       "      <td>28.419936</td>\n",
       "      <td>Mad Max: Fury Road</td>\n",
       "      <td>120</td>\n",
       "      <td>6185</td>\n",
       "      <td>7.1</td>\n",
       "      <td>1.379999e+08</td>\n",
       "      <td>3.481613e+08</td>\n",
       "      <td>Action</td>\n",
       "      <td>Adventure</td>\n",
       "      <td>Tom Hardy</td>\n",
       "      <td>Charlize Theron</td>\n",
       "      <td>George Miller</td>\n",
       "      <td>2.101614e+08</td>\n",
       "      <td>2015-05-13</td>\n",
       "      <td>long_movie</td>\n",
       "      <td>4.493441</td>\n",
       "    </tr>\n",
       "    <tr>\n",
       "      <th>2</th>\n",
       "      <td>13.112507</td>\n",
       "      <td>Insurgent</td>\n",
       "      <td>119</td>\n",
       "      <td>2480</td>\n",
       "      <td>6.3</td>\n",
       "      <td>1.012000e+08</td>\n",
       "      <td>2.716190e+08</td>\n",
       "      <td>Adventure</td>\n",
       "      <td>Science Fiction</td>\n",
       "      <td>Shailene Woodley</td>\n",
       "      <td>Theo James</td>\n",
       "      <td>Robert Schwentke</td>\n",
       "      <td>1.704191e+08</td>\n",
       "      <td>2015-03-18</td>\n",
       "      <td>long_movie</td>\n",
       "      <td>1.594855</td>\n",
       "    </tr>\n",
       "    <tr>\n",
       "      <th>3</th>\n",
       "      <td>11.173104</td>\n",
       "      <td>Star Wars: The Force Awakens</td>\n",
       "      <td>136</td>\n",
       "      <td>5292</td>\n",
       "      <td>7.5</td>\n",
       "      <td>1.839999e+08</td>\n",
       "      <td>1.902723e+09</td>\n",
       "      <td>Action</td>\n",
       "      <td>Adventure</td>\n",
       "      <td>Harrison Ford</td>\n",
       "      <td>Mark Hamill</td>\n",
       "      <td>J.J. Abrams</td>\n",
       "      <td>1.718723e+09</td>\n",
       "      <td>2015-12-15</td>\n",
       "      <td>long_movie</td>\n",
       "      <td>4.060162</td>\n",
       "    </tr>\n",
       "    <tr>\n",
       "      <th>4</th>\n",
       "      <td>9.335014</td>\n",
       "      <td>Furious 7</td>\n",
       "      <td>137</td>\n",
       "      <td>2947</td>\n",
       "      <td>7.3</td>\n",
       "      <td>1.747999e+08</td>\n",
       "      <td>1.385749e+09</td>\n",
       "      <td>Action</td>\n",
       "      <td>Crime</td>\n",
       "      <td>Vin Diesel</td>\n",
       "      <td>Paul Walker</td>\n",
       "      <td>James Wan</td>\n",
       "      <td>1.210949e+09</td>\n",
       "      <td>2015-04-01</td>\n",
       "      <td>long_movie</td>\n",
       "      <td>2.197407</td>\n",
       "    </tr>\n",
       "  </tbody>\n",
       "</table>\n",
       "</div>"
      ],
      "text/plain": [
       "   popularity                original_title  runtime  vote_count  \\\n",
       "0   32.985763                Jurassic World      124        5562   \n",
       "1   28.419936            Mad Max: Fury Road      120        6185   \n",
       "2   13.112507                     Insurgent      119        2480   \n",
       "3   11.173104  Star Wars: The Force Awakens      136        5292   \n",
       "4    9.335014                     Furious 7      137        2947   \n",
       "\n",
       "   vote_average    budget_adj   revenue_adj prim_genre     second_genre  \\\n",
       "0           6.5  1.379999e+08  1.392446e+09     Action        Adventure   \n",
       "1           7.1  1.379999e+08  3.481613e+08     Action        Adventure   \n",
       "2           6.3  1.012000e+08  2.716190e+08  Adventure  Science Fiction   \n",
       "3           7.5  1.839999e+08  1.902723e+09     Action        Adventure   \n",
       "4           7.3  1.747999e+08  1.385749e+09     Action            Crime   \n",
       "\n",
       "         prim_actor         second_actor     prim_director    profit_adj  \\\n",
       "0       Chris Pratt  Bryce Dallas Howard   Colin Trevorrow  1.254446e+09   \n",
       "1         Tom Hardy      Charlize Theron     George Miller  2.101614e+08   \n",
       "2  Shailene Woodley           Theo James  Robert Schwentke  1.704191e+08   \n",
       "3     Harrison Ford          Mark Hamill       J.J. Abrams  1.718723e+09   \n",
       "4        Vin Diesel          Paul Walker         James Wan  1.210949e+09   \n",
       "\n",
       "  release_date movie_duration  vote_adj  \n",
       "0   2015-06-09     long_movie  3.698678  \n",
       "1   2015-05-13     long_movie  4.493441  \n",
       "2   2015-03-18     long_movie  1.594855  \n",
       "3   2015-12-15     long_movie  4.060162  \n",
       "4   2015-04-01     long_movie  2.197407  "
      ]
     },
     "execution_count": 464,
     "metadata": {},
     "output_type": "execute_result"
    }
   ],
   "source": [
    "df[df['vote_average'] > 5].head(5)"
   ]
  },
  {
   "cell_type": "code",
   "execution_count": 465,
   "id": "05e60da8",
   "metadata": {},
   "outputs": [
    {
     "data": {
      "text/html": [
       "<div>\n",
       "<style scoped>\n",
       "    .dataframe tbody tr th:only-of-type {\n",
       "        vertical-align: middle;\n",
       "    }\n",
       "\n",
       "    .dataframe tbody tr th {\n",
       "        vertical-align: top;\n",
       "    }\n",
       "\n",
       "    .dataframe thead th {\n",
       "        text-align: right;\n",
       "    }\n",
       "</style>\n",
       "<table border=\"1\" class=\"dataframe\">\n",
       "  <thead>\n",
       "    <tr style=\"text-align: right;\">\n",
       "      <th></th>\n",
       "      <th>popularity</th>\n",
       "      <th>original_title</th>\n",
       "      <th>runtime</th>\n",
       "      <th>vote_count</th>\n",
       "      <th>vote_average</th>\n",
       "      <th>budget_adj</th>\n",
       "      <th>revenue_adj</th>\n",
       "      <th>prim_genre</th>\n",
       "      <th>second_genre</th>\n",
       "      <th>prim_actor</th>\n",
       "      <th>second_actor</th>\n",
       "      <th>prim_director</th>\n",
       "      <th>profit_adj</th>\n",
       "      <th>release_date</th>\n",
       "      <th>movie_duration</th>\n",
       "      <th>vote_adj</th>\n",
       "    </tr>\n",
       "  </thead>\n",
       "  <tbody>\n",
       "    <tr>\n",
       "      <th>617</th>\n",
       "      <td>24.949134</td>\n",
       "      <td>Interstellar</td>\n",
       "      <td>169</td>\n",
       "      <td>6498</td>\n",
       "      <td>8.0</td>\n",
       "      <td>1.519800e+08</td>\n",
       "      <td>5.726906e+08</td>\n",
       "      <td>Adventure</td>\n",
       "      <td>Drama</td>\n",
       "      <td>Matthew McConaughey</td>\n",
       "      <td>Jessica Chastain</td>\n",
       "      <td>Christopher Nolan</td>\n",
       "      <td>4.207106e+08</td>\n",
       "      <td>2014-11-05</td>\n",
       "      <td>long_movie</td>\n",
       "      <td>5.319668</td>\n",
       "    </tr>\n",
       "    <tr>\n",
       "      <th>1355</th>\n",
       "      <td>9.432768</td>\n",
       "      <td>Avatar</td>\n",
       "      <td>162</td>\n",
       "      <td>8458</td>\n",
       "      <td>7.1</td>\n",
       "      <td>2.408869e+08</td>\n",
       "      <td>2.827124e+09</td>\n",
       "      <td>Action</td>\n",
       "      <td>Adventure</td>\n",
       "      <td>Sam Worthington</td>\n",
       "      <td>Zoe Saldana</td>\n",
       "      <td>James Cameron</td>\n",
       "      <td>2.586237e+09</td>\n",
       "      <td>2009-12-10</td>\n",
       "      <td>long_movie</td>\n",
       "      <td>6.147463</td>\n",
       "    </tr>\n",
       "    <tr>\n",
       "      <th>1880</th>\n",
       "      <td>9.363643</td>\n",
       "      <td>Inception</td>\n",
       "      <td>148</td>\n",
       "      <td>9767</td>\n",
       "      <td>7.9</td>\n",
       "      <td>1.600000e+08</td>\n",
       "      <td>8.255000e+08</td>\n",
       "      <td>Action</td>\n",
       "      <td>Thriller</td>\n",
       "      <td>Leonardo DiCaprio</td>\n",
       "      <td>Joseph Gordon-Levitt</td>\n",
       "      <td>Christopher Nolan</td>\n",
       "      <td>6.655000e+08</td>\n",
       "      <td>2010-07-14</td>\n",
       "      <td>long_movie</td>\n",
       "      <td>7.900000</td>\n",
       "    </tr>\n",
       "    <tr>\n",
       "      <th>2356</th>\n",
       "      <td>7.753899</td>\n",
       "      <td>The Matrix</td>\n",
       "      <td>136</td>\n",
       "      <td>6351</td>\n",
       "      <td>7.8</td>\n",
       "      <td>8.247033e+07</td>\n",
       "      <td>6.067687e+08</td>\n",
       "      <td>Action</td>\n",
       "      <td>Science Fiction</td>\n",
       "      <td>Keanu Reeves</td>\n",
       "      <td>Laurence Fishburne</td>\n",
       "      <td>Lilly Wachowski</td>\n",
       "      <td>5.242984e+08</td>\n",
       "      <td>1999-03-30</td>\n",
       "      <td>long_movie</td>\n",
       "      <td>5.069161</td>\n",
       "    </tr>\n",
       "    <tr>\n",
       "      <th>2820</th>\n",
       "      <td>8.466668</td>\n",
       "      <td>The Dark Knight</td>\n",
       "      <td>152</td>\n",
       "      <td>8432</td>\n",
       "      <td>8.1</td>\n",
       "      <td>1.873655e+08</td>\n",
       "      <td>1.014733e+09</td>\n",
       "      <td>Drama</td>\n",
       "      <td>Action</td>\n",
       "      <td>Christian Bale</td>\n",
       "      <td>Michael Caine</td>\n",
       "      <td>Christopher Nolan</td>\n",
       "      <td>8.273675e+08</td>\n",
       "      <td>2008-07-16</td>\n",
       "      <td>long_movie</td>\n",
       "      <td>6.991719</td>\n",
       "    </tr>\n",
       "  </tbody>\n",
       "</table>\n",
       "</div>"
      ],
      "text/plain": [
       "      popularity   original_title  runtime  vote_count  vote_average  \\\n",
       "617    24.949134     Interstellar      169        6498           8.0   \n",
       "1355    9.432768           Avatar      162        8458           7.1   \n",
       "1880    9.363643        Inception      148        9767           7.9   \n",
       "2356    7.753899       The Matrix      136        6351           7.8   \n",
       "2820    8.466668  The Dark Knight      152        8432           8.1   \n",
       "\n",
       "        budget_adj   revenue_adj prim_genre     second_genre  \\\n",
       "617   1.519800e+08  5.726906e+08  Adventure            Drama   \n",
       "1355  2.408869e+08  2.827124e+09     Action        Adventure   \n",
       "1880  1.600000e+08  8.255000e+08     Action         Thriller   \n",
       "2356  8.247033e+07  6.067687e+08     Action  Science Fiction   \n",
       "2820  1.873655e+08  1.014733e+09      Drama           Action   \n",
       "\n",
       "               prim_actor          second_actor      prim_director  \\\n",
       "617   Matthew McConaughey      Jessica Chastain  Christopher Nolan   \n",
       "1355      Sam Worthington           Zoe Saldana      James Cameron   \n",
       "1880    Leonardo DiCaprio  Joseph Gordon-Levitt  Christopher Nolan   \n",
       "2356         Keanu Reeves    Laurence Fishburne    Lilly Wachowski   \n",
       "2820       Christian Bale         Michael Caine  Christopher Nolan   \n",
       "\n",
       "        profit_adj release_date movie_duration  vote_adj  \n",
       "617   4.207106e+08   2014-11-05     long_movie  5.319668  \n",
       "1355  2.586237e+09   2009-12-10     long_movie  6.147463  \n",
       "1880  6.655000e+08   2010-07-14     long_movie  7.900000  \n",
       "2356  5.242984e+08   1999-03-30     long_movie  5.069161  \n",
       "2820  8.273675e+08   2008-07-16     long_movie  6.991719  "
      ]
     },
     "execution_count": 465,
     "metadata": {},
     "output_type": "execute_result"
    }
   ],
   "source": [
    "df[df['vote_adj'] > 5].head(5)\n",
    "#Seems realistic"
   ]
  },
  {
   "cell_type": "code",
   "execution_count": 466,
   "id": "3d321a7e",
   "metadata": {},
   "outputs": [
    {
     "data": {
      "text/html": [
       "<div>\n",
       "<style scoped>\n",
       "    .dataframe tbody tr th:only-of-type {\n",
       "        vertical-align: middle;\n",
       "    }\n",
       "\n",
       "    .dataframe tbody tr th {\n",
       "        vertical-align: top;\n",
       "    }\n",
       "\n",
       "    .dataframe thead th {\n",
       "        text-align: right;\n",
       "    }\n",
       "</style>\n",
       "<table border=\"1\" class=\"dataframe\">\n",
       "  <thead>\n",
       "    <tr style=\"text-align: right;\">\n",
       "      <th></th>\n",
       "      <th>popularity</th>\n",
       "      <th>original_title</th>\n",
       "      <th>runtime</th>\n",
       "      <th>vote_count</th>\n",
       "      <th>budget_adj</th>\n",
       "      <th>revenue_adj</th>\n",
       "      <th>prim_genre</th>\n",
       "      <th>second_genre</th>\n",
       "      <th>prim_actor</th>\n",
       "      <th>second_actor</th>\n",
       "      <th>prim_director</th>\n",
       "      <th>profit_adj</th>\n",
       "      <th>release_date</th>\n",
       "      <th>movie_duration</th>\n",
       "      <th>vote_adj</th>\n",
       "    </tr>\n",
       "  </thead>\n",
       "  <tbody>\n",
       "    <tr>\n",
       "      <th>0</th>\n",
       "      <td>32.985763</td>\n",
       "      <td>Jurassic World</td>\n",
       "      <td>124</td>\n",
       "      <td>5562</td>\n",
       "      <td>1.379999e+08</td>\n",
       "      <td>1.392446e+09</td>\n",
       "      <td>Action</td>\n",
       "      <td>Adventure</td>\n",
       "      <td>Chris Pratt</td>\n",
       "      <td>Bryce Dallas Howard</td>\n",
       "      <td>Colin Trevorrow</td>\n",
       "      <td>1.254446e+09</td>\n",
       "      <td>2015-06-09</td>\n",
       "      <td>long_movie</td>\n",
       "      <td>3.698678</td>\n",
       "    </tr>\n",
       "    <tr>\n",
       "      <th>1</th>\n",
       "      <td>28.419936</td>\n",
       "      <td>Mad Max: Fury Road</td>\n",
       "      <td>120</td>\n",
       "      <td>6185</td>\n",
       "      <td>1.379999e+08</td>\n",
       "      <td>3.481613e+08</td>\n",
       "      <td>Action</td>\n",
       "      <td>Adventure</td>\n",
       "      <td>Tom Hardy</td>\n",
       "      <td>Charlize Theron</td>\n",
       "      <td>George Miller</td>\n",
       "      <td>2.101614e+08</td>\n",
       "      <td>2015-05-13</td>\n",
       "      <td>long_movie</td>\n",
       "      <td>4.493441</td>\n",
       "    </tr>\n",
       "    <tr>\n",
       "      <th>2</th>\n",
       "      <td>13.112507</td>\n",
       "      <td>Insurgent</td>\n",
       "      <td>119</td>\n",
       "      <td>2480</td>\n",
       "      <td>1.012000e+08</td>\n",
       "      <td>2.716190e+08</td>\n",
       "      <td>Adventure</td>\n",
       "      <td>Science Fiction</td>\n",
       "      <td>Shailene Woodley</td>\n",
       "      <td>Theo James</td>\n",
       "      <td>Robert Schwentke</td>\n",
       "      <td>1.704191e+08</td>\n",
       "      <td>2015-03-18</td>\n",
       "      <td>long_movie</td>\n",
       "      <td>1.594855</td>\n",
       "    </tr>\n",
       "    <tr>\n",
       "      <th>3</th>\n",
       "      <td>11.173104</td>\n",
       "      <td>Star Wars: The Force Awakens</td>\n",
       "      <td>136</td>\n",
       "      <td>5292</td>\n",
       "      <td>1.839999e+08</td>\n",
       "      <td>1.902723e+09</td>\n",
       "      <td>Action</td>\n",
       "      <td>Adventure</td>\n",
       "      <td>Harrison Ford</td>\n",
       "      <td>Mark Hamill</td>\n",
       "      <td>J.J. Abrams</td>\n",
       "      <td>1.718723e+09</td>\n",
       "      <td>2015-12-15</td>\n",
       "      <td>long_movie</td>\n",
       "      <td>4.060162</td>\n",
       "    </tr>\n",
       "    <tr>\n",
       "      <th>4</th>\n",
       "      <td>9.335014</td>\n",
       "      <td>Furious 7</td>\n",
       "      <td>137</td>\n",
       "      <td>2947</td>\n",
       "      <td>1.747999e+08</td>\n",
       "      <td>1.385749e+09</td>\n",
       "      <td>Action</td>\n",
       "      <td>Crime</td>\n",
       "      <td>Vin Diesel</td>\n",
       "      <td>Paul Walker</td>\n",
       "      <td>James Wan</td>\n",
       "      <td>1.210949e+09</td>\n",
       "      <td>2015-04-01</td>\n",
       "      <td>long_movie</td>\n",
       "      <td>2.197407</td>\n",
       "    </tr>\n",
       "    <tr>\n",
       "      <th>...</th>\n",
       "      <td>...</td>\n",
       "      <td>...</td>\n",
       "      <td>...</td>\n",
       "      <td>...</td>\n",
       "      <td>...</td>\n",
       "      <td>...</td>\n",
       "      <td>...</td>\n",
       "      <td>...</td>\n",
       "      <td>...</td>\n",
       "      <td>...</td>\n",
       "      <td>...</td>\n",
       "      <td>...</td>\n",
       "      <td>...</td>\n",
       "      <td>...</td>\n",
       "      <td>...</td>\n",
       "    </tr>\n",
       "    <tr>\n",
       "      <th>10726</th>\n",
       "      <td>0.080598</td>\n",
       "      <td>The Endless Summer</td>\n",
       "      <td>95</td>\n",
       "      <td>11</td>\n",
       "      <td>0.000000e+00</td>\n",
       "      <td>0.000000e+00</td>\n",
       "      <td>Documentary</td>\n",
       "      <td>None</td>\n",
       "      <td>Michael Hynson</td>\n",
       "      <td>Robert August</td>\n",
       "      <td>Bruce Brown</td>\n",
       "      <td>0.000000e+00</td>\n",
       "      <td>1966-06-15</td>\n",
       "      <td>short_movie</td>\n",
       "      <td>0.000758</td>\n",
       "    </tr>\n",
       "    <tr>\n",
       "      <th>10727</th>\n",
       "      <td>0.065543</td>\n",
       "      <td>Grand Prix</td>\n",
       "      <td>176</td>\n",
       "      <td>20</td>\n",
       "      <td>0.000000e+00</td>\n",
       "      <td>0.000000e+00</td>\n",
       "      <td>Action</td>\n",
       "      <td>Adventure</td>\n",
       "      <td>James Garner</td>\n",
       "      <td>Eva Marie Saint</td>\n",
       "      <td>John Frankenheimer</td>\n",
       "      <td>0.000000e+00</td>\n",
       "      <td>1966-12-21</td>\n",
       "      <td>long_movie</td>\n",
       "      <td>0.005842</td>\n",
       "    </tr>\n",
       "    <tr>\n",
       "      <th>10728</th>\n",
       "      <td>0.065141</td>\n",
       "      <td>Beregis Avtomobilya</td>\n",
       "      <td>94</td>\n",
       "      <td>11</td>\n",
       "      <td>0.000000e+00</td>\n",
       "      <td>0.000000e+00</td>\n",
       "      <td>Mystery</td>\n",
       "      <td>Comedy</td>\n",
       "      <td>Innokentiy Smoktunovskiy</td>\n",
       "      <td>Oleg Efremov</td>\n",
       "      <td>Eldar Ryazanov</td>\n",
       "      <td>0.000000e+00</td>\n",
       "      <td>1966-01-01</td>\n",
       "      <td>short_movie</td>\n",
       "      <td>0.000666</td>\n",
       "    </tr>\n",
       "    <tr>\n",
       "      <th>10729</th>\n",
       "      <td>0.064317</td>\n",
       "      <td>What's Up, Tiger Lily?</td>\n",
       "      <td>80</td>\n",
       "      <td>22</td>\n",
       "      <td>0.000000e+00</td>\n",
       "      <td>0.000000e+00</td>\n",
       "      <td>Action</td>\n",
       "      <td>Comedy</td>\n",
       "      <td>Tatsuya Mihashi</td>\n",
       "      <td>Akiko Wakabayashi</td>\n",
       "      <td>Woody Allen</td>\n",
       "      <td>0.000000e+00</td>\n",
       "      <td>1966-11-02</td>\n",
       "      <td>short_movie</td>\n",
       "      <td>0.006641</td>\n",
       "    </tr>\n",
       "    <tr>\n",
       "      <th>10730</th>\n",
       "      <td>0.035919</td>\n",
       "      <td>Manos: The Hands of Fate</td>\n",
       "      <td>74</td>\n",
       "      <td>15</td>\n",
       "      <td>1.276423e+05</td>\n",
       "      <td>0.000000e+00</td>\n",
       "      <td>Horror</td>\n",
       "      <td>None</td>\n",
       "      <td>Harold P. Warren</td>\n",
       "      <td>Tom Neyman</td>\n",
       "      <td>Harold P. Warren</td>\n",
       "      <td>-1.276423e+05</td>\n",
       "      <td>1966-11-15</td>\n",
       "      <td>short_movie</td>\n",
       "      <td>0.000769</td>\n",
       "    </tr>\n",
       "  </tbody>\n",
       "</table>\n",
       "<p>10731 rows × 15 columns</p>\n",
       "</div>"
      ],
      "text/plain": [
       "       popularity                original_title  runtime  vote_count  \\\n",
       "0       32.985763                Jurassic World      124        5562   \n",
       "1       28.419936            Mad Max: Fury Road      120        6185   \n",
       "2       13.112507                     Insurgent      119        2480   \n",
       "3       11.173104  Star Wars: The Force Awakens      136        5292   \n",
       "4        9.335014                     Furious 7      137        2947   \n",
       "...           ...                           ...      ...         ...   \n",
       "10726    0.080598            The Endless Summer       95          11   \n",
       "10727    0.065543                    Grand Prix      176          20   \n",
       "10728    0.065141           Beregis Avtomobilya       94          11   \n",
       "10729    0.064317        What's Up, Tiger Lily?       80          22   \n",
       "10730    0.035919      Manos: The Hands of Fate       74          15   \n",
       "\n",
       "         budget_adj   revenue_adj   prim_genre     second_genre  \\\n",
       "0      1.379999e+08  1.392446e+09       Action        Adventure   \n",
       "1      1.379999e+08  3.481613e+08       Action        Adventure   \n",
       "2      1.012000e+08  2.716190e+08    Adventure  Science Fiction   \n",
       "3      1.839999e+08  1.902723e+09       Action        Adventure   \n",
       "4      1.747999e+08  1.385749e+09       Action            Crime   \n",
       "...             ...           ...          ...              ...   \n",
       "10726  0.000000e+00  0.000000e+00  Documentary             None   \n",
       "10727  0.000000e+00  0.000000e+00       Action        Adventure   \n",
       "10728  0.000000e+00  0.000000e+00      Mystery           Comedy   \n",
       "10729  0.000000e+00  0.000000e+00       Action           Comedy   \n",
       "10730  1.276423e+05  0.000000e+00       Horror             None   \n",
       "\n",
       "                     prim_actor         second_actor       prim_director  \\\n",
       "0                   Chris Pratt  Bryce Dallas Howard     Colin Trevorrow   \n",
       "1                     Tom Hardy      Charlize Theron       George Miller   \n",
       "2              Shailene Woodley           Theo James    Robert Schwentke   \n",
       "3                 Harrison Ford          Mark Hamill         J.J. Abrams   \n",
       "4                    Vin Diesel          Paul Walker           James Wan   \n",
       "...                         ...                  ...                 ...   \n",
       "10726            Michael Hynson        Robert August         Bruce Brown   \n",
       "10727              James Garner      Eva Marie Saint  John Frankenheimer   \n",
       "10728  Innokentiy Smoktunovskiy         Oleg Efremov      Eldar Ryazanov   \n",
       "10729           Tatsuya Mihashi    Akiko Wakabayashi         Woody Allen   \n",
       "10730          Harold P. Warren           Tom Neyman    Harold P. Warren   \n",
       "\n",
       "         profit_adj release_date movie_duration  vote_adj  \n",
       "0      1.254446e+09   2015-06-09     long_movie  3.698678  \n",
       "1      2.101614e+08   2015-05-13     long_movie  4.493441  \n",
       "2      1.704191e+08   2015-03-18     long_movie  1.594855  \n",
       "3      1.718723e+09   2015-12-15     long_movie  4.060162  \n",
       "4      1.210949e+09   2015-04-01     long_movie  2.197407  \n",
       "...             ...          ...            ...       ...  \n",
       "10726  0.000000e+00   1966-06-15    short_movie  0.000758  \n",
       "10727  0.000000e+00   1966-12-21     long_movie  0.005842  \n",
       "10728  0.000000e+00   1966-01-01    short_movie  0.000666  \n",
       "10729  0.000000e+00   1966-11-02    short_movie  0.006641  \n",
       "10730 -1.276423e+05   1966-11-15    short_movie  0.000769  \n",
       "\n",
       "[10731 rows x 15 columns]"
      ]
     },
     "execution_count": 466,
     "metadata": {},
     "output_type": "execute_result"
    }
   ],
   "source": [
    "#so we will drop vote_average column, as it's not useful now\n",
    "df.drop('vote_average', axis=1, inplace=True)\n",
    "df"
   ]
  },
  {
   "cell_type": "code",
   "execution_count": 467,
   "id": "3d3bae51",
   "metadata": {},
   "outputs": [],
   "source": [
    "#save the wrangled data\n",
    "\n",
    "df.to_csv('Wrangled_Data.csv', index=False)"
   ]
  },
  {
   "cell_type": "markdown",
   "id": "7a5eaea3",
   "metadata": {},
   "source": [
    "# Exploratory Data Analysis"
   ]
  },
  {
   "cell_type": "markdown",
   "id": "21a1c97d",
   "metadata": {},
   "source": [
    "## Reseach Question 1: What are the properites associated with high revenue?\n",
    "High revenue is an important indicator in movie industry, using this indicator will help us in data analysis and how to extract the useful info from it:\n",
    "1. like the relation between budget and revenue, is there any relation between them? positive or negative? what this relation indicates? if we answer these questions we can learn how to make a good movie.\n",
    "2. another relation is the relation between votes and revenue, does the movie with high revenue collected the highest votes? is it a positive relation? \n",
    "3. Does the runtime of movie affects in revenue?\n",
    "4. the genre? \n",
    "5. actors and directors? \n",
    "\n",
    "And so on, there's many relations in this section i covered, it's very useful."
   ]
  },
  {
   "cell_type": "code",
   "execution_count": 468,
   "id": "03484613",
   "metadata": {},
   "outputs": [],
   "source": [
    "import seaborn as sns"
   ]
  },
  {
   "cell_type": "code",
   "execution_count": 469,
   "id": "f965290a",
   "metadata": {},
   "outputs": [
    {
     "name": "stderr",
     "output_type": "stream",
     "text": [
      "C:\\Users\\THE LAPTOP SHOP\\anaconda3\\lib\\site-packages\\seaborn\\distributions.py:2557: FutureWarning: `distplot` is a deprecated function and will be removed in a future version. Please adapt your code to use either `displot` (a figure-level function with similar flexibility) or `histplot` (an axes-level function for histograms).\n",
      "  warnings.warn(msg, FutureWarning)\n"
     ]
    },
    {
     "data": {
      "text/plain": [
       "<AxesSubplot:xlabel='Revenue in 100 million'>"
      ]
     },
     "execution_count": 469,
     "metadata": {},
     "output_type": "execute_result"
    },
    {
     "data": {
      "image/png": "[encoded data removed]",
      "text/plain": [
       "<Figure size 1080x360 with 1 Axes>"
      ]
     },
     "metadata": {
      "needs_background": "light"
     },
     "output_type": "display_data"
    }
   ],
   "source": [
    "#the revenue data is right skewed as we see\n",
    "plt.figure(figsize=(15,5))\n",
    "plt.xlim(0,6*10**8)\n",
    "plt.xlabel('Revenue in 100 million')\n",
    "sns.distplot(x= df['revenue_adj'], kde=False, color='red')"
   ]
  },
  {
   "cell_type": "code",
   "execution_count": 470,
   "id": "9a6d333b",
   "metadata": {},
   "outputs": [],
   "source": [
    "def Plot(col1, col2, pltype):\n",
    "#function that take name of two columns of dataframe (df) and type of plot.\n",
    "#plot a relation between the two columns\n",
    "#it can plot, regression line (regplot) to get the correlation\n",
    "#it can also plot bar plots\n",
    "#it can also plot line plots used in timelines\n",
    "    if pltype == 'regplot':\n",
    "        plt.figure(figsize=(10,5))\n",
    "        sns.regplot(y=df[col1], x=df[col2])\n",
    "    elif pltype == 'barplot':\n",
    "        plt.figure(figsize=(25,7))\n",
    "        sns.barplot(y=df[col1], x=df[col2])\n",
    "    elif pltype == 'lineplot':\n",
    "        plt.figure(figsize=(12,5))\n",
    "        sns.lineplot(y=df[col1], x=df[col2])"
   ]
  },
  {
   "cell_type": "markdown",
   "id": "80c350da",
   "metadata": {},
   "source": [
    "### Revenue vs Budget"
   ]
  },
  {
   "cell_type": "code",
   "execution_count": 471,
   "id": "6f975db8",
   "metadata": {},
   "outputs": [
    {
     "data": {
      "text/plain": [
       "Text(0, 0.5, 'Budget in 100 million')"
      ]
     },
     "execution_count": 471,
     "metadata": {},
     "output_type": "execute_result"
    },
    {
     "data": {
      "image/png": "[encoded data removed]",
      "text/plain": [
       "<Figure size 720x360 with 1 Axes>"
      ]
     },
     "metadata": {
      "needs_background": "light"
     },
     "output_type": "display_data"
    }
   ],
   "source": [
    "\n",
    "Plot('budget_adj', 'revenue_adj', 'regplot')\n",
    "plt.title('Positve Correlation between revenue and budget')\n",
    "plt.xlabel('Revenue in billion')\n",
    "plt.ylabel('Budget in 100 million')"
   ]
  },
  {
   "cell_type": "markdown",
   "id": "4cf512bf",
   "metadata": {},
   "source": [
    "### Revenue vs Vote Average"
   ]
  },
  {
   "cell_type": "code",
   "execution_count": 472,
   "id": "441c8f76",
   "metadata": {},
   "outputs": [
    {
     "data": {
      "text/plain": [
       "Text(0, 0.5, 'Votes average')"
      ]
     },
     "execution_count": 472,
     "metadata": {},
     "output_type": "execute_result"
    },
    {
     "data": {
      "image/png": "[encoded data removed]",
      "text/plain": [
       "<Figure size 720x360 with 1 Axes>"
      ]
     },
     "metadata": {
      "needs_background": "light"
     },
     "output_type": "display_data"
    }
   ],
   "source": [
    "Plot('vote_adj', 'revenue_adj', 'regplot')\n",
    "plt.title('Correlation between revenue and average votes')\n",
    "plt.xlabel('Revenue in billion')\n",
    "plt.ylabel('Votes average')"
   ]
  },
  {
   "cell_type": "markdown",
   "id": "79605181",
   "metadata": {},
   "source": [
    "### Revenue vs Vote Count"
   ]
  },
  {
   "cell_type": "code",
   "execution_count": 473,
   "id": "c5af1468",
   "metadata": {
    "scrolled": false
   },
   "outputs": [
    {
     "data": {
      "text/plain": [
       "Text(0, 0.5, 'Vote Count')"
      ]
     },
     "execution_count": 473,
     "metadata": {},
     "output_type": "execute_result"
    },
    {
     "data": {
      "image/png": "[encoded data removed]",
      "text/plain": [
       "<Figure size 720x360 with 1 Axes>"
      ]
     },
     "metadata": {
      "needs_background": "light"
     },
     "output_type": "display_data"
    }
   ],
   "source": [
    "Plot('vote_count', 'revenue_adj', 'regplot')\n",
    "plt.title('Correlation between revenue and votes count')\n",
    "plt.xlabel('Revenue in billion')\n",
    "plt.ylabel('Vote Count')"
   ]
  },
  {
   "cell_type": "markdown",
   "id": "4db7fda3",
   "metadata": {},
   "source": [
    "### Revenue vs Movie Duration"
   ]
  },
  {
   "cell_type": "code",
   "execution_count": 474,
   "id": "bfc58ee8",
   "metadata": {
    "scrolled": true
   },
   "outputs": [
    {
     "data": {
      "text/plain": [
       "Text(0, 0.5, 'Vote Count')"
      ]
     },
     "execution_count": 474,
     "metadata": {},
     "output_type": "execute_result"
    },
    {
     "data": {
      "image/png": "[encoded data removed]",
      "text/plain": [
       "<Figure size 1800x504 with 1 Axes>"
      ]
     },
     "metadata": {
      "needs_background": "light"
     },
     "output_type": "display_data"
    }
   ],
   "source": [
    "Plot('movie_duration','revenue_adj', 'barplot')\n",
    "plt.title('Revenue between long and short movies')\n",
    "plt.xlabel('Revenue in 10 million')\n",
    "plt.ylabel('Vote Count')"
   ]
  },
  {
   "cell_type": "markdown",
   "id": "80d4da3e",
   "metadata": {},
   "source": [
    "### Revenue vs Popularity"
   ]
  },
  {
   "cell_type": "code",
   "execution_count": 475,
   "id": "e32fcb48",
   "metadata": {
    "scrolled": true
   },
   "outputs": [
    {
     "data": {
      "text/plain": [
       "Text(0, 0.5, 'Popularity')"
      ]
     },
     "execution_count": 475,
     "metadata": {},
     "output_type": "execute_result"
    },
    {
     "data": {
      "image/png": "[encoded data removed]",
      "text/plain": [
       "<Figure size 720x360 with 1 Axes>"
      ]
     },
     "metadata": {
      "needs_background": "light"
     },
     "output_type": "display_data"
    }
   ],
   "source": [
    "Plot('popularity', 'revenue_adj', 'regplot')\n",
    "plt.title('Correlation between Revenue and Popularity')\n",
    "plt.xlabel('Revenue in billion')\n",
    "plt.ylabel('Popularity')"
   ]
  },
  {
   "cell_type": "markdown",
   "id": "23c0d949",
   "metadata": {},
   "source": [
    "### Revenue vs Primary Genre\n",
    "Top revenue according to primary genre:\n",
    "1. Adventure\n",
    "2. Science Fiction\n",
    "3. Fantasy"
   ]
  },
  {
   "cell_type": "code",
   "execution_count": 476,
   "id": "01086639",
   "metadata": {},
   "outputs": [
    {
     "data": {
      "text/plain": [
       "Text(0.5, 0, 'Primary Genre')"
      ]
     },
     "execution_count": 476,
     "metadata": {},
     "output_type": "execute_result"
    },
    {
     "data": {
      "image/png": "[encoded data removed]",
      "text/plain": [
       "<Figure size 1800x504 with 1 Axes>"
      ]
     },
     "metadata": {
      "needs_background": "light"
     },
     "output_type": "display_data"
    }
   ],
   "source": [
    "Plot('revenue_adj', 'prim_genre', 'barplot')\n",
    "plt.ylabel('Revenue in 100 Million')\n",
    "plt.xlabel('Primary Genre')"
   ]
  },
  {
   "cell_type": "markdown",
   "id": "50cbcbc0",
   "metadata": {},
   "source": [
    "### Revenue vs Secondary Genre\n",
    "Top revenue according to secondary genre:\n",
    "1. Fantasy\n",
    "2. Action\n",
    "3. Adventure"
   ]
  },
  {
   "cell_type": "code",
   "execution_count": 477,
   "id": "3471d7fa",
   "metadata": {
    "scrolled": true
   },
   "outputs": [
    {
     "data": {
      "text/plain": [
       "Text(0.5, 0, 'Secondary Genre')"
      ]
     },
     "execution_count": 477,
     "metadata": {},
     "output_type": "execute_result"
    },
    {
     "data": {
      "image/png": "[encoded data removed]",
      "text/plain": [
       "<Figure size 1800x504 with 1 Axes>"
      ]
     },
     "metadata": {
      "needs_background": "light"
     },
     "output_type": "display_data"
    }
   ],
   "source": [
    "Plot('revenue_adj', 'second_genre', 'barplot')\n",
    "plt.ylabel('Revenue in 100 Million')\n",
    "plt.xlabel('Secondary Genre')"
   ]
  },
  {
   "cell_type": "markdown",
   "id": "d785986f",
   "metadata": {},
   "source": [
    "### Genres of Maximum revenues (TOP 3)"
   ]
  },
  {
   "cell_type": "code",
   "execution_count": 478,
   "id": "efd7abd8",
   "metadata": {},
   "outputs": [
    {
     "data": {
      "text/plain": [
       "prim_genre  second_genre\n",
       "Action      Adventure       2.827124e+09\n",
       "Adventure   Action          2.789712e+09\n",
       "Drama       Romance         2.506406e+09\n",
       "Name: revenue_adj, dtype: float64"
      ]
     },
     "execution_count": 478,
     "metadata": {},
     "output_type": "execute_result"
    }
   ],
   "source": [
    "df.groupby(['prim_genre', 'second_genre'])['revenue_adj'].max().sort_values(ascending=False)[:3]"
   ]
  },
  {
   "cell_type": "markdown",
   "id": "0840718a",
   "metadata": {},
   "source": [
    "### Genres of highest revenues  (TOP 3) (Average)"
   ]
  },
  {
   "cell_type": "code",
   "execution_count": 479,
   "id": "0b4eb927",
   "metadata": {},
   "outputs": [
    {
     "data": {
      "text/plain": [
       "prim_genre\n",
       "Adventure          1.668203e+08\n",
       "Science Fiction    1.009330e+08\n",
       "Fantasy            8.314328e+07\n",
       "Name: revenue_adj, dtype: float64"
      ]
     },
     "execution_count": 479,
     "metadata": {},
     "output_type": "execute_result"
    }
   ],
   "source": [
    "df.groupby(['prim_genre'])['revenue_adj'].mean().sort_values(ascending=False)[:3]"
   ]
  },
  {
   "cell_type": "code",
   "execution_count": 480,
   "id": "246f2253",
   "metadata": {},
   "outputs": [
    {
     "data": {
      "text/plain": [
       "second_genre\n",
       "Fantasy      1.296470e+08\n",
       "Action       1.239511e+08\n",
       "Adventure    1.083989e+08\n",
       "Name: revenue_adj, dtype: float64"
      ]
     },
     "execution_count": 480,
     "metadata": {},
     "output_type": "execute_result"
    }
   ],
   "source": [
    "df.groupby(['second_genre'])['revenue_adj'].mean().sort_values(ascending=False)[:3]"
   ]
  },
  {
   "cell_type": "markdown",
   "id": "e977cc75",
   "metadata": {},
   "source": [
    "### Maximum revenues according to actors and the movie (TOP 3)"
   ]
  },
  {
   "cell_type": "code",
   "execution_count": 481,
   "id": "9b21ef83",
   "metadata": {},
   "outputs": [
    {
     "data": {
      "text/plain": [
       "prim_actor       second_actor       original_title\n",
       "Sam Worthington  Zoe Saldana        Avatar            2.827124e+09\n",
       "Mark Hamill      Harrison Ford      Star Wars         2.789712e+09\n",
       "Kate Winslet     Leonardo DiCaprio  Titanic           2.506406e+09\n",
       "Name: revenue_adj, dtype: float64"
      ]
     },
     "execution_count": 481,
     "metadata": {},
     "output_type": "execute_result"
    }
   ],
   "source": [
    "df.groupby(['prim_actor', 'second_actor', 'original_title'])['revenue_adj'].max().sort_values(ascending=False)[:3]"
   ]
  },
  {
   "cell_type": "markdown",
   "id": "42ce495c",
   "metadata": {},
   "source": [
    "### Actors of highest revenues (Average)"
   ]
  },
  {
   "cell_type": "code",
   "execution_count": 482,
   "id": "6add8a98",
   "metadata": {},
   "outputs": [
    {
     "data": {
      "text/plain": [
       "prim_actor\n",
       "Mark Hamill        1.367039e+09\n",
       "Chris Pratt        1.052369e+09\n",
       "William Moseley    8.360904e+08\n",
       "Name: revenue_adj, dtype: float64"
      ]
     },
     "execution_count": 482,
     "metadata": {},
     "output_type": "execute_result"
    }
   ],
   "source": [
    "df.groupby(['prim_actor'])['revenue_adj'].mean().sort_values(ascending=False)[:3]"
   ]
  },
  {
   "cell_type": "code",
   "execution_count": 483,
   "id": "649e4361",
   "metadata": {},
   "outputs": [
    {
     "data": {
      "text/plain": [
       "second_actor\n",
       "J. Pat O'Malley       1.574815e+09\n",
       "Sebastian Cabot       1.345551e+09\n",
       "FranÃ§ois Truffaut    1.092965e+09\n",
       "Name: revenue_adj, dtype: float64"
      ]
     },
     "execution_count": 483,
     "metadata": {},
     "output_type": "execute_result"
    }
   ],
   "source": [
    "df.groupby(['second_actor'])['revenue_adj'].mean().sort_values(ascending=False)[:3]"
   ]
  },
  {
   "cell_type": "markdown",
   "id": "9c84e0bc",
   "metadata": {},
   "source": [
    "### Directors of Highest revenues (TOP 3) (Average)"
   ]
  },
  {
   "cell_type": "code",
   "execution_count": 484,
   "id": "84b8c3a3",
   "metadata": {},
   "outputs": [
    {
     "data": {
      "text/plain": [
       "prim_director\n",
       "Clyde Geronimi    1.574815e+09\n",
       "George Lucas      1.052320e+09\n",
       "Lee Unkrich       8.781367e+08\n",
       "Name: revenue_adj, dtype: float64"
      ]
     },
     "execution_count": 484,
     "metadata": {},
     "output_type": "execute_result"
    }
   ],
   "source": [
    "df.groupby(['prim_director'])['revenue_adj'].mean().sort_values(ascending=False)[:3]"
   ]
  },
  {
   "cell_type": "markdown",
   "id": "92d5893b",
   "metadata": {},
   "source": [
    "### Movies that gained the highest revenues and their directors (TOP 3)"
   ]
  },
  {
   "cell_type": "code",
   "execution_count": 485,
   "id": "671cbcf6",
   "metadata": {},
   "outputs": [
    {
     "data": {
      "text/plain": [
       "original_title  prim_director\n",
       "Avatar          James Cameron    2.827124e+09\n",
       "Star Wars       George Lucas     2.789712e+09\n",
       "Titanic         James Cameron    2.506406e+09\n",
       "Name: revenue_adj, dtype: float64"
      ]
     },
     "execution_count": 485,
     "metadata": {},
     "output_type": "execute_result"
    }
   ],
   "source": [
    "df.groupby(['original_title','prim_director'])['revenue_adj'].max().sort_values(ascending=False)[:3]"
   ]
  },
  {
   "cell_type": "markdown",
   "id": "0e0f40a1",
   "metadata": {},
   "source": [
    "## Reseach Question 2: What about the time effect on data? \n",
    "The time factor is very important in this process, as how the time affect the graphs ups and downs\n",
    "in this section i am trying to extract useful info from the data regarding the timem Like: \n",
    "1. The movies direction is toward the short or the long movies? \n",
    "2. Movies budgets over time\n",
    "3. Movies profits over time\n",
    "4. Top profits according to profit_adj indicator"
   ]
  },
  {
   "cell_type": "code",
   "execution_count": 486,
   "id": "363d0769",
   "metadata": {},
   "outputs": [],
   "source": [
    "df['release_year'] = df['release_date'].dt.year"
   ]
  },
  {
   "cell_type": "code",
   "execution_count": 487,
   "id": "55cfa893",
   "metadata": {
    "scrolled": false
   },
   "outputs": [
    {
     "data": {
      "text/html": [
       "<div>\n",
       "<style scoped>\n",
       "    .dataframe tbody tr th:only-of-type {\n",
       "        vertical-align: middle;\n",
       "    }\n",
       "\n",
       "    .dataframe tbody tr th {\n",
       "        vertical-align: top;\n",
       "    }\n",
       "\n",
       "    .dataframe thead th {\n",
       "        text-align: right;\n",
       "    }\n",
       "</style>\n",
       "<table border=\"1\" class=\"dataframe\">\n",
       "  <thead>\n",
       "    <tr style=\"text-align: right;\">\n",
       "      <th></th>\n",
       "      <th>popularity</th>\n",
       "      <th>original_title</th>\n",
       "      <th>runtime</th>\n",
       "      <th>vote_count</th>\n",
       "      <th>budget_adj</th>\n",
       "      <th>revenue_adj</th>\n",
       "      <th>prim_genre</th>\n",
       "      <th>second_genre</th>\n",
       "      <th>prim_actor</th>\n",
       "      <th>second_actor</th>\n",
       "      <th>prim_director</th>\n",
       "      <th>profit_adj</th>\n",
       "      <th>release_date</th>\n",
       "      <th>movie_duration</th>\n",
       "      <th>vote_adj</th>\n",
       "      <th>release_year</th>\n",
       "    </tr>\n",
       "  </thead>\n",
       "  <tbody>\n",
       "    <tr>\n",
       "      <th>0</th>\n",
       "      <td>32.985763</td>\n",
       "      <td>Jurassic World</td>\n",
       "      <td>124</td>\n",
       "      <td>5562</td>\n",
       "      <td>1.379999e+08</td>\n",
       "      <td>1.392446e+09</td>\n",
       "      <td>Action</td>\n",
       "      <td>Adventure</td>\n",
       "      <td>Chris Pratt</td>\n",
       "      <td>Bryce Dallas Howard</td>\n",
       "      <td>Colin Trevorrow</td>\n",
       "      <td>1.254446e+09</td>\n",
       "      <td>2015-06-09</td>\n",
       "      <td>long_movie</td>\n",
       "      <td>3.698678</td>\n",
       "      <td>2015</td>\n",
       "    </tr>\n",
       "    <tr>\n",
       "      <th>1</th>\n",
       "      <td>28.419936</td>\n",
       "      <td>Mad Max: Fury Road</td>\n",
       "      <td>120</td>\n",
       "      <td>6185</td>\n",
       "      <td>1.379999e+08</td>\n",
       "      <td>3.481613e+08</td>\n",
       "      <td>Action</td>\n",
       "      <td>Adventure</td>\n",
       "      <td>Tom Hardy</td>\n",
       "      <td>Charlize Theron</td>\n",
       "      <td>George Miller</td>\n",
       "      <td>2.101614e+08</td>\n",
       "      <td>2015-05-13</td>\n",
       "      <td>long_movie</td>\n",
       "      <td>4.493441</td>\n",
       "      <td>2015</td>\n",
       "    </tr>\n",
       "    <tr>\n",
       "      <th>2</th>\n",
       "      <td>13.112507</td>\n",
       "      <td>Insurgent</td>\n",
       "      <td>119</td>\n",
       "      <td>2480</td>\n",
       "      <td>1.012000e+08</td>\n",
       "      <td>2.716190e+08</td>\n",
       "      <td>Adventure</td>\n",
       "      <td>Science Fiction</td>\n",
       "      <td>Shailene Woodley</td>\n",
       "      <td>Theo James</td>\n",
       "      <td>Robert Schwentke</td>\n",
       "      <td>1.704191e+08</td>\n",
       "      <td>2015-03-18</td>\n",
       "      <td>long_movie</td>\n",
       "      <td>1.594855</td>\n",
       "      <td>2015</td>\n",
       "    </tr>\n",
       "    <tr>\n",
       "      <th>3</th>\n",
       "      <td>11.173104</td>\n",
       "      <td>Star Wars: The Force Awakens</td>\n",
       "      <td>136</td>\n",
       "      <td>5292</td>\n",
       "      <td>1.839999e+08</td>\n",
       "      <td>1.902723e+09</td>\n",
       "      <td>Action</td>\n",
       "      <td>Adventure</td>\n",
       "      <td>Harrison Ford</td>\n",
       "      <td>Mark Hamill</td>\n",
       "      <td>J.J. Abrams</td>\n",
       "      <td>1.718723e+09</td>\n",
       "      <td>2015-12-15</td>\n",
       "      <td>long_movie</td>\n",
       "      <td>4.060162</td>\n",
       "      <td>2015</td>\n",
       "    </tr>\n",
       "    <tr>\n",
       "      <th>4</th>\n",
       "      <td>9.335014</td>\n",
       "      <td>Furious 7</td>\n",
       "      <td>137</td>\n",
       "      <td>2947</td>\n",
       "      <td>1.747999e+08</td>\n",
       "      <td>1.385749e+09</td>\n",
       "      <td>Action</td>\n",
       "      <td>Crime</td>\n",
       "      <td>Vin Diesel</td>\n",
       "      <td>Paul Walker</td>\n",
       "      <td>James Wan</td>\n",
       "      <td>1.210949e+09</td>\n",
       "      <td>2015-04-01</td>\n",
       "      <td>long_movie</td>\n",
       "      <td>2.197407</td>\n",
       "      <td>2015</td>\n",
       "    </tr>\n",
       "    <tr>\n",
       "      <th>...</th>\n",
       "      <td>...</td>\n",
       "      <td>...</td>\n",
       "      <td>...</td>\n",
       "      <td>...</td>\n",
       "      <td>...</td>\n",
       "      <td>...</td>\n",
       "      <td>...</td>\n",
       "      <td>...</td>\n",
       "      <td>...</td>\n",
       "      <td>...</td>\n",
       "      <td>...</td>\n",
       "      <td>...</td>\n",
       "      <td>...</td>\n",
       "      <td>...</td>\n",
       "      <td>...</td>\n",
       "      <td>...</td>\n",
       "    </tr>\n",
       "    <tr>\n",
       "      <th>10726</th>\n",
       "      <td>0.080598</td>\n",
       "      <td>The Endless Summer</td>\n",
       "      <td>95</td>\n",
       "      <td>11</td>\n",
       "      <td>0.000000e+00</td>\n",
       "      <td>0.000000e+00</td>\n",
       "      <td>Documentary</td>\n",
       "      <td>None</td>\n",
       "      <td>Michael Hynson</td>\n",
       "      <td>Robert August</td>\n",
       "      <td>Bruce Brown</td>\n",
       "      <td>0.000000e+00</td>\n",
       "      <td>1966-06-15</td>\n",
       "      <td>short_movie</td>\n",
       "      <td>0.000758</td>\n",
       "      <td>1966</td>\n",
       "    </tr>\n",
       "    <tr>\n",
       "      <th>10727</th>\n",
       "      <td>0.065543</td>\n",
       "      <td>Grand Prix</td>\n",
       "      <td>176</td>\n",
       "      <td>20</td>\n",
       "      <td>0.000000e+00</td>\n",
       "      <td>0.000000e+00</td>\n",
       "      <td>Action</td>\n",
       "      <td>Adventure</td>\n",
       "      <td>James Garner</td>\n",
       "      <td>Eva Marie Saint</td>\n",
       "      <td>John Frankenheimer</td>\n",
       "      <td>0.000000e+00</td>\n",
       "      <td>1966-12-21</td>\n",
       "      <td>long_movie</td>\n",
       "      <td>0.005842</td>\n",
       "      <td>1966</td>\n",
       "    </tr>\n",
       "    <tr>\n",
       "      <th>10728</th>\n",
       "      <td>0.065141</td>\n",
       "      <td>Beregis Avtomobilya</td>\n",
       "      <td>94</td>\n",
       "      <td>11</td>\n",
       "      <td>0.000000e+00</td>\n",
       "      <td>0.000000e+00</td>\n",
       "      <td>Mystery</td>\n",
       "      <td>Comedy</td>\n",
       "      <td>Innokentiy Smoktunovskiy</td>\n",
       "      <td>Oleg Efremov</td>\n",
       "      <td>Eldar Ryazanov</td>\n",
       "      <td>0.000000e+00</td>\n",
       "      <td>1966-01-01</td>\n",
       "      <td>short_movie</td>\n",
       "      <td>0.000666</td>\n",
       "      <td>1966</td>\n",
       "    </tr>\n",
       "    <tr>\n",
       "      <th>10729</th>\n",
       "      <td>0.064317</td>\n",
       "      <td>What's Up, Tiger Lily?</td>\n",
       "      <td>80</td>\n",
       "      <td>22</td>\n",
       "      <td>0.000000e+00</td>\n",
       "      <td>0.000000e+00</td>\n",
       "      <td>Action</td>\n",
       "      <td>Comedy</td>\n",
       "      <td>Tatsuya Mihashi</td>\n",
       "      <td>Akiko Wakabayashi</td>\n",
       "      <td>Woody Allen</td>\n",
       "      <td>0.000000e+00</td>\n",
       "      <td>1966-11-02</td>\n",
       "      <td>short_movie</td>\n",
       "      <td>0.006641</td>\n",
       "      <td>1966</td>\n",
       "    </tr>\n",
       "    <tr>\n",
       "      <th>10730</th>\n",
       "      <td>0.035919</td>\n",
       "      <td>Manos: The Hands of Fate</td>\n",
       "      <td>74</td>\n",
       "      <td>15</td>\n",
       "      <td>1.276423e+05</td>\n",
       "      <td>0.000000e+00</td>\n",
       "      <td>Horror</td>\n",
       "      <td>None</td>\n",
       "      <td>Harold P. Warren</td>\n",
       "      <td>Tom Neyman</td>\n",
       "      <td>Harold P. Warren</td>\n",
       "      <td>-1.276423e+05</td>\n",
       "      <td>1966-11-15</td>\n",
       "      <td>short_movie</td>\n",
       "      <td>0.000769</td>\n",
       "      <td>1966</td>\n",
       "    </tr>\n",
       "  </tbody>\n",
       "</table>\n",
       "<p>10731 rows × 16 columns</p>\n",
       "</div>"
      ],
      "text/plain": [
       "       popularity                original_title  runtime  vote_count  \\\n",
       "0       32.985763                Jurassic World      124        5562   \n",
       "1       28.419936            Mad Max: Fury Road      120        6185   \n",
       "2       13.112507                     Insurgent      119        2480   \n",
       "3       11.173104  Star Wars: The Force Awakens      136        5292   \n",
       "4        9.335014                     Furious 7      137        2947   \n",
       "...           ...                           ...      ...         ...   \n",
       "10726    0.080598            The Endless Summer       95          11   \n",
       "10727    0.065543                    Grand Prix      176          20   \n",
       "10728    0.065141           Beregis Avtomobilya       94          11   \n",
       "10729    0.064317        What's Up, Tiger Lily?       80          22   \n",
       "10730    0.035919      Manos: The Hands of Fate       74          15   \n",
       "\n",
       "         budget_adj   revenue_adj   prim_genre     second_genre  \\\n",
       "0      1.379999e+08  1.392446e+09       Action        Adventure   \n",
       "1      1.379999e+08  3.481613e+08       Action        Adventure   \n",
       "2      1.012000e+08  2.716190e+08    Adventure  Science Fiction   \n",
       "3      1.839999e+08  1.902723e+09       Action        Adventure   \n",
       "4      1.747999e+08  1.385749e+09       Action            Crime   \n",
       "...             ...           ...          ...              ...   \n",
       "10726  0.000000e+00  0.000000e+00  Documentary             None   \n",
       "10727  0.000000e+00  0.000000e+00       Action        Adventure   \n",
       "10728  0.000000e+00  0.000000e+00      Mystery           Comedy   \n",
       "10729  0.000000e+00  0.000000e+00       Action           Comedy   \n",
       "10730  1.276423e+05  0.000000e+00       Horror             None   \n",
       "\n",
       "                     prim_actor         second_actor       prim_director  \\\n",
       "0                   Chris Pratt  Bryce Dallas Howard     Colin Trevorrow   \n",
       "1                     Tom Hardy      Charlize Theron       George Miller   \n",
       "2              Shailene Woodley           Theo James    Robert Schwentke   \n",
       "3                 Harrison Ford          Mark Hamill         J.J. Abrams   \n",
       "4                    Vin Diesel          Paul Walker           James Wan   \n",
       "...                         ...                  ...                 ...   \n",
       "10726            Michael Hynson        Robert August         Bruce Brown   \n",
       "10727              James Garner      Eva Marie Saint  John Frankenheimer   \n",
       "10728  Innokentiy Smoktunovskiy         Oleg Efremov      Eldar Ryazanov   \n",
       "10729           Tatsuya Mihashi    Akiko Wakabayashi         Woody Allen   \n",
       "10730          Harold P. Warren           Tom Neyman    Harold P. Warren   \n",
       "\n",
       "         profit_adj release_date movie_duration  vote_adj  release_year  \n",
       "0      1.254446e+09   2015-06-09     long_movie  3.698678          2015  \n",
       "1      2.101614e+08   2015-05-13     long_movie  4.493441          2015  \n",
       "2      1.704191e+08   2015-03-18     long_movie  1.594855          2015  \n",
       "3      1.718723e+09   2015-12-15     long_movie  4.060162          2015  \n",
       "4      1.210949e+09   2015-04-01     long_movie  2.197407          2015  \n",
       "...             ...          ...            ...       ...           ...  \n",
       "10726  0.000000e+00   1966-06-15    short_movie  0.000758          1966  \n",
       "10727  0.000000e+00   1966-12-21     long_movie  0.005842          1966  \n",
       "10728  0.000000e+00   1966-01-01    short_movie  0.000666          1966  \n",
       "10729  0.000000e+00   1966-11-02    short_movie  0.006641          1966  \n",
       "10730 -1.276423e+05   1966-11-15    short_movie  0.000769          1966  \n",
       "\n",
       "[10731 rows x 16 columns]"
      ]
     },
     "execution_count": 487,
     "metadata": {},
     "output_type": "execute_result"
    }
   ],
   "source": [
    "df"
   ]
  },
  {
   "cell_type": "markdown",
   "id": "fdef0619",
   "metadata": {},
   "source": [
    "### 1. Movie runtime decreased with respect to time"
   ]
  },
  {
   "cell_type": "code",
   "execution_count": 488,
   "id": "4ee9f87c",
   "metadata": {
    "scrolled": true
   },
   "outputs": [
    {
     "data": {
      "image/png": "[encoded data removed]",
      "text/plain": [
       "<Figure size 864x360 with 1 Axes>"
      ]
     },
     "metadata": {
      "needs_background": "light"
     },
     "output_type": "display_data"
    }
   ],
   "source": [
    "Plot('runtime','release_year', 'lineplot')"
   ]
  },
  {
   "cell_type": "markdown",
   "id": "aa1e178f",
   "metadata": {},
   "source": [
    "### 2. The movies budget witnessed an increase in the period between 1999 and 2001 and decreased again"
   ]
  },
  {
   "cell_type": "code",
   "execution_count": 489,
   "id": "af6c168d",
   "metadata": {
    "scrolled": true
   },
   "outputs": [
    {
     "data": {
      "image/png": "[encoded data removed]",
      "text/plain": [
       "<Figure size 864x360 with 1 Axes>"
      ]
     },
     "metadata": {
      "needs_background": "light"
     },
     "output_type": "display_data"
    }
   ],
   "source": [
    "Plot('budget_adj','release_year', 'lineplot')"
   ]
  },
  {
   "cell_type": "markdown",
   "id": "28a5d97a",
   "metadata": {},
   "source": [
    "### 3. The movies profits seems to be steady in the last 10 year"
   ]
  },
  {
   "cell_type": "code",
   "execution_count": 490,
   "id": "71ac7611",
   "metadata": {
    "scrolled": true
   },
   "outputs": [
    {
     "data": {
      "image/png": "[encoded data removed]",
      "text/plain": [
       "<Figure size 864x360 with 1 Axes>"
      ]
     },
     "metadata": {
      "needs_background": "light"
     },
     "output_type": "display_data"
    }
   ],
   "source": [
    "Plot('profit_adj','release_year', 'lineplot')"
   ]
  },
  {
   "cell_type": "code",
   "execution_count": 491,
   "id": "79dc5874",
   "metadata": {},
   "outputs": [
    {
     "data": {
      "text/plain": [
       "release_year\n",
       "1960    3.539024e+08\n",
       "1961    1.545635e+09\n",
       "1962    4.216943e+08\n",
       "Name: profit_adj, dtype: float64"
      ]
     },
     "execution_count": 491,
     "metadata": {},
     "output_type": "execute_result"
    }
   ],
   "source": [
    "# Top profits in 60s\n",
    "df.groupby('release_year')['profit_adj'].max()[:3]"
   ]
  },
  {
   "cell_type": "markdown",
   "id": "9c726b73",
   "metadata": {},
   "source": [
    "### 3. Vote count (Number of people who voted movies) is increasing over time"
   ]
  },
  {
   "cell_type": "code",
   "execution_count": 492,
   "id": "7447e21e",
   "metadata": {
    "scrolled": false
   },
   "outputs": [
    {
     "data": {
      "image/png": "[encoded data removed]",
      "text/plain": [
       "<Figure size 864x360 with 1 Axes>"
      ]
     },
     "metadata": {
      "needs_background": "light"
     },
     "output_type": "display_data"
    }
   ],
   "source": [
    "Plot('vote_count', 'release_year', 'lineplot')"
   ]
  },
  {
   "cell_type": "markdown",
   "id": "e658b10c",
   "metadata": {},
   "source": [
    "### Movies density\n",
    "The kde is left skewed, most of the movies are in the last 20 years"
   ]
  },
  {
   "cell_type": "code",
   "execution_count": 493,
   "id": "cccbde8d",
   "metadata": {},
   "outputs": [
    {
     "data": {
      "text/plain": [
       "<AxesSubplot:xlabel='release_year', ylabel='Density'>"
      ]
     },
     "execution_count": 493,
     "metadata": {},
     "output_type": "execute_result"
    },
    {
     "data": {
      "image/png": "[encoded data removed]",
      "text/plain": [
       "<Figure size 432x288 with 1 Axes>"
      ]
     },
     "metadata": {
      "needs_background": "light"
     },
     "output_type": "display_data"
    }
   ],
   "source": [
    "sns.kdeplot(x=df['release_year'])"
   ]
  },
  {
   "cell_type": "markdown",
   "id": "67301261",
   "metadata": {},
   "source": [
    "## Reseach Question 3: What are the properites associated with high votes?\n",
    "I consider this as the most important question in this data, people's opinions (VOTES), the most valuable indicator about the success and failure of any movie, i covered the following: \n",
    "1. Top 5 movies/actors/genres in votes\n",
    "2. Long or short movies have the highest votes?\n",
    "3. Highest primary/secondary genre in votes\n",
    "4. Do budgets play an role in the votes?\n"
   ]
  },
  {
   "cell_type": "code",
   "execution_count": 494,
   "id": "31c4310b",
   "metadata": {
    "scrolled": true
   },
   "outputs": [
    {
     "data": {
      "text/html": [
       "<div>\n",
       "<style scoped>\n",
       "    .dataframe tbody tr th:only-of-type {\n",
       "        vertical-align: middle;\n",
       "    }\n",
       "\n",
       "    .dataframe tbody tr th {\n",
       "        vertical-align: top;\n",
       "    }\n",
       "\n",
       "    .dataframe thead th {\n",
       "        text-align: right;\n",
       "    }\n",
       "</style>\n",
       "<table border=\"1\" class=\"dataframe\">\n",
       "  <thead>\n",
       "    <tr style=\"text-align: right;\">\n",
       "      <th></th>\n",
       "      <th>popularity</th>\n",
       "      <th>original_title</th>\n",
       "      <th>runtime</th>\n",
       "      <th>vote_count</th>\n",
       "      <th>budget_adj</th>\n",
       "      <th>revenue_adj</th>\n",
       "      <th>prim_genre</th>\n",
       "      <th>second_genre</th>\n",
       "      <th>prim_actor</th>\n",
       "      <th>second_actor</th>\n",
       "      <th>prim_director</th>\n",
       "      <th>profit_adj</th>\n",
       "      <th>release_date</th>\n",
       "      <th>movie_duration</th>\n",
       "      <th>vote_adj</th>\n",
       "      <th>release_year</th>\n",
       "    </tr>\n",
       "  </thead>\n",
       "  <tbody>\n",
       "    <tr>\n",
       "      <th>0</th>\n",
       "      <td>32.985763</td>\n",
       "      <td>Jurassic World</td>\n",
       "      <td>124</td>\n",
       "      <td>5562</td>\n",
       "      <td>1.379999e+08</td>\n",
       "      <td>1.392446e+09</td>\n",
       "      <td>Action</td>\n",
       "      <td>Adventure</td>\n",
       "      <td>Chris Pratt</td>\n",
       "      <td>Bryce Dallas Howard</td>\n",
       "      <td>Colin Trevorrow</td>\n",
       "      <td>1.254446e+09</td>\n",
       "      <td>2015-06-09</td>\n",
       "      <td>long_movie</td>\n",
       "      <td>3.698678</td>\n",
       "      <td>2015</td>\n",
       "    </tr>\n",
       "    <tr>\n",
       "      <th>1</th>\n",
       "      <td>28.419936</td>\n",
       "      <td>Mad Max: Fury Road</td>\n",
       "      <td>120</td>\n",
       "      <td>6185</td>\n",
       "      <td>1.379999e+08</td>\n",
       "      <td>3.481613e+08</td>\n",
       "      <td>Action</td>\n",
       "      <td>Adventure</td>\n",
       "      <td>Tom Hardy</td>\n",
       "      <td>Charlize Theron</td>\n",
       "      <td>George Miller</td>\n",
       "      <td>2.101614e+08</td>\n",
       "      <td>2015-05-13</td>\n",
       "      <td>long_movie</td>\n",
       "      <td>4.493441</td>\n",
       "      <td>2015</td>\n",
       "    </tr>\n",
       "    <tr>\n",
       "      <th>2</th>\n",
       "      <td>13.112507</td>\n",
       "      <td>Insurgent</td>\n",
       "      <td>119</td>\n",
       "      <td>2480</td>\n",
       "      <td>1.012000e+08</td>\n",
       "      <td>2.716190e+08</td>\n",
       "      <td>Adventure</td>\n",
       "      <td>Science Fiction</td>\n",
       "      <td>Shailene Woodley</td>\n",
       "      <td>Theo James</td>\n",
       "      <td>Robert Schwentke</td>\n",
       "      <td>1.704191e+08</td>\n",
       "      <td>2015-03-18</td>\n",
       "      <td>long_movie</td>\n",
       "      <td>1.594855</td>\n",
       "      <td>2015</td>\n",
       "    </tr>\n",
       "    <tr>\n",
       "      <th>3</th>\n",
       "      <td>11.173104</td>\n",
       "      <td>Star Wars: The Force Awakens</td>\n",
       "      <td>136</td>\n",
       "      <td>5292</td>\n",
       "      <td>1.839999e+08</td>\n",
       "      <td>1.902723e+09</td>\n",
       "      <td>Action</td>\n",
       "      <td>Adventure</td>\n",
       "      <td>Harrison Ford</td>\n",
       "      <td>Mark Hamill</td>\n",
       "      <td>J.J. Abrams</td>\n",
       "      <td>1.718723e+09</td>\n",
       "      <td>2015-12-15</td>\n",
       "      <td>long_movie</td>\n",
       "      <td>4.060162</td>\n",
       "      <td>2015</td>\n",
       "    </tr>\n",
       "    <tr>\n",
       "      <th>4</th>\n",
       "      <td>9.335014</td>\n",
       "      <td>Furious 7</td>\n",
       "      <td>137</td>\n",
       "      <td>2947</td>\n",
       "      <td>1.747999e+08</td>\n",
       "      <td>1.385749e+09</td>\n",
       "      <td>Action</td>\n",
       "      <td>Crime</td>\n",
       "      <td>Vin Diesel</td>\n",
       "      <td>Paul Walker</td>\n",
       "      <td>James Wan</td>\n",
       "      <td>1.210949e+09</td>\n",
       "      <td>2015-04-01</td>\n",
       "      <td>long_movie</td>\n",
       "      <td>2.197407</td>\n",
       "      <td>2015</td>\n",
       "    </tr>\n",
       "  </tbody>\n",
       "</table>\n",
       "</div>"
      ],
      "text/plain": [
       "   popularity                original_title  runtime  vote_count  \\\n",
       "0   32.985763                Jurassic World      124        5562   \n",
       "1   28.419936            Mad Max: Fury Road      120        6185   \n",
       "2   13.112507                     Insurgent      119        2480   \n",
       "3   11.173104  Star Wars: The Force Awakens      136        5292   \n",
       "4    9.335014                     Furious 7      137        2947   \n",
       "\n",
       "     budget_adj   revenue_adj prim_genre     second_genre        prim_actor  \\\n",
       "0  1.379999e+08  1.392446e+09     Action        Adventure       Chris Pratt   \n",
       "1  1.379999e+08  3.481613e+08     Action        Adventure         Tom Hardy   \n",
       "2  1.012000e+08  2.716190e+08  Adventure  Science Fiction  Shailene Woodley   \n",
       "3  1.839999e+08  1.902723e+09     Action        Adventure     Harrison Ford   \n",
       "4  1.747999e+08  1.385749e+09     Action            Crime        Vin Diesel   \n",
       "\n",
       "          second_actor     prim_director    profit_adj release_date  \\\n",
       "0  Bryce Dallas Howard   Colin Trevorrow  1.254446e+09   2015-06-09   \n",
       "1      Charlize Theron     George Miller  2.101614e+08   2015-05-13   \n",
       "2           Theo James  Robert Schwentke  1.704191e+08   2015-03-18   \n",
       "3          Mark Hamill       J.J. Abrams  1.718723e+09   2015-12-15   \n",
       "4          Paul Walker         James Wan  1.210949e+09   2015-04-01   \n",
       "\n",
       "  movie_duration  vote_adj  release_year  \n",
       "0     long_movie  3.698678          2015  \n",
       "1     long_movie  4.493441          2015  \n",
       "2     long_movie  1.594855          2015  \n",
       "3     long_movie  4.060162          2015  \n",
       "4     long_movie  2.197407          2015  "
      ]
     },
     "execution_count": 494,
     "metadata": {},
     "output_type": "execute_result"
    }
   ],
   "source": [
    "df.head()"
   ]
  },
  {
   "cell_type": "markdown",
   "id": "07cedc94",
   "metadata": {},
   "source": [
    "### 1. Movies/Actors/Genres gained the highest rate in this dataset (TOP 5)"
   ]
  },
  {
   "cell_type": "code",
   "execution_count": 495,
   "id": "1c0a2fa6",
   "metadata": {},
   "outputs": [
    {
     "data": {
      "text/plain": [
       "original_title    prim_actor         second_actor          prim_genre       second_genre\n",
       "Inception         Leonardo DiCaprio  Joseph Gordon-Levitt  Action           Thriller        7.900000\n",
       "The Dark Knight   Christian Bale     Michael Caine         Drama            Action          6.991719\n",
       "The Avengers      Robert Downey Jr.  Chris Evans           Science Fiction  Action          6.653572\n",
       "Avatar            Sam Worthington    Zoe Saldana           Action           Adventure       6.147463\n",
       "Django Unchained  Jamie Foxx         Christoph Waltz       Drama            Western         5.812289\n",
       "Name: vote_adj, dtype: float64"
      ]
     },
     "execution_count": 495,
     "metadata": {},
     "output_type": "execute_result"
    }
   ],
   "source": [
    "df.groupby(['original_title','prim_actor', 'second_actor', 'prim_genre', 'second_genre'])['vote_adj'].max().sort_values(ascending=False)[:5]"
   ]
  },
  {
   "cell_type": "markdown",
   "id": "4b6a05ce",
   "metadata": {},
   "source": [
    "### 2. Long movies are higher in vote than short movies"
   ]
  },
  {
   "cell_type": "code",
   "execution_count": 496,
   "id": "cf66a164",
   "metadata": {
    "scrolled": true
   },
   "outputs": [
    {
     "data": {
      "text/plain": [
       "Text(0.5, 1.0, 'Movie Duration vs Votes')"
      ]
     },
     "execution_count": 496,
     "metadata": {},
     "output_type": "execute_result"
    },
    {
     "data": {
      "image/png": "[encoded data removed]",
      "text/plain": [
       "<Figure size 1800x504 with 1 Axes>"
      ]
     },
     "metadata": {
      "needs_background": "light"
     },
     "output_type": "display_data"
    }
   ],
   "source": [
    "Plot('vote_adj', 'movie_duration', 'barplot')\n",
    "plt.title(\"Movie Duration vs Votes\")"
   ]
  },
  {
   "cell_type": "markdown",
   "id": "0f72ba6d",
   "metadata": {},
   "source": [
    "### 3. Highest primary genres in votes"
   ]
  },
  {
   "cell_type": "code",
   "execution_count": 497,
   "id": "8498bf25",
   "metadata": {
    "scrolled": true
   },
   "outputs": [
    {
     "data": {
      "text/plain": [
       "Text(0.5, 1.0, 'Primary Generes vs Votes')"
      ]
     },
     "execution_count": 497,
     "metadata": {},
     "output_type": "execute_result"
    },
    {
     "data": {
      "image/png": "[encoded data removed]",
      "text/plain": [
       "<Figure size 1800x504 with 1 Axes>"
      ]
     },
     "metadata": {
      "needs_background": "light"
     },
     "output_type": "display_data"
    }
   ],
   "source": [
    "Plot('vote_adj', 'prim_genre', 'barplot')\n",
    "plt.title(\"Primary Generes vs Votes\")"
   ]
  },
  {
   "cell_type": "markdown",
   "id": "72da9cac",
   "metadata": {},
   "source": [
    "### 4. Highest seconadary genres in votes"
   ]
  },
  {
   "cell_type": "code",
   "execution_count": 498,
   "id": "46997977",
   "metadata": {
    "scrolled": true
   },
   "outputs": [
    {
     "data": {
      "text/plain": [
       "Text(0.5, 1.0, 'Secondary Generes vs Votes')"
      ]
     },
     "execution_count": 498,
     "metadata": {},
     "output_type": "execute_result"
    },
    {
     "data": {
      "image/png": "[encoded data removed]",
      "text/plain": [
       "<Figure size 1800x504 with 1 Axes>"
      ]
     },
     "metadata": {
      "needs_background": "light"
     },
     "output_type": "display_data"
    }
   ],
   "source": [
    "Plot('vote_adj', 'second_genre', 'barplot')\n",
    "plt.title(\"Secondary Generes vs Votes\")"
   ]
  },
  {
   "cell_type": "markdown",
   "id": "c75a0e36",
   "metadata": {},
   "source": [
    "### 5. Votes correlation with revenues"
   ]
  },
  {
   "cell_type": "code",
   "execution_count": 499,
   "id": "d42c23b7",
   "metadata": {},
   "outputs": [
    {
     "data": {
      "text/plain": [
       "Text(0.5, 1.0, 'Votes correlation with budget')"
      ]
     },
     "execution_count": 499,
     "metadata": {},
     "output_type": "execute_result"
    },
    {
     "data": {
      "text/plain": [
       "<Figure size 576x360 with 0 Axes>"
      ]
     },
     "metadata": {},
     "output_type": "display_data"
    },
    {
     "data": {
      "image/png": "[encoded data removed]",
      "text/plain": [
       "<Figure size 720x360 with 1 Axes>"
      ]
     },
     "metadata": {
      "needs_background": "light"
     },
     "output_type": "display_data"
    }
   ],
   "source": [
    "plt.figure(figsize=(8,5))\n",
    "Plot('vote_adj', 'budget_adj', 'regplot')\n",
    "plt.xlabel('Budget in 100 million')\n",
    "plt.ylabel('Average votes')\n",
    "plt.title(\"Votes correlation with budget\")"
   ]
  },
  {
   "cell_type": "markdown",
   "id": "f93edcde",
   "metadata": {},
   "source": [
    "# Conclusion:\n",
    "Now we have answered the three questions very well.\n",
    "We extracted the summary of the data, by knowing the relation between its variables.\n",
    "Also we can predict the future values of any data column as we drawn the regression best fit line, used in machine learning models.\n",
    "\n",
    "According to this analysis process, we now know the top genres, top actors, top directors, we also know the highest revenues and the profit of some movies, we also know the top rated (voted) movies, we also know the time effectivness on the movie industry and how it acts with the time\n",
    "\n",
    "## Limitations:\n",
    "The movies release date is left skewed (most of the movies are between 2000 and 2020), that limit the analysis and makes the process biased, the standard deviation must be high in release date.\n",
    "this is the only limitation i recognized!"
   ]
  },
  {
   "cell_type": "code",
   "execution_count": 505,
   "id": "4bc738f5",
   "metadata": {},
   "outputs": [],
   "source": [
    "limit = pd.DataFrame(df['release_year'].describe())"
   ]
  },
  {
   "cell_type": "code",
   "execution_count": 506,
   "id": "6a7ffa02",
   "metadata": {},
   "outputs": [
    {
     "data": {
      "text/html": [
       "<div>\n",
       "<style scoped>\n",
       "    .dataframe tbody tr th:only-of-type {\n",
       "        vertical-align: middle;\n",
       "    }\n",
       "\n",
       "    .dataframe tbody tr th {\n",
       "        vertical-align: top;\n",
       "    }\n",
       "\n",
       "    .dataframe thead th {\n",
       "        text-align: right;\n",
       "    }\n",
       "</style>\n",
       "<table border=\"1\" class=\"dataframe\">\n",
       "  <thead>\n",
       "    <tr style=\"text-align: right;\">\n",
       "      <th></th>\n",
       "      <th>release_year</th>\n",
       "    </tr>\n",
       "  </thead>\n",
       "  <tbody>\n",
       "    <tr>\n",
       "      <th>count</th>\n",
       "      <td>10731.000000</td>\n",
       "    </tr>\n",
       "    <tr>\n",
       "      <th>mean</th>\n",
       "      <td>2001.259622</td>\n",
       "    </tr>\n",
       "    <tr>\n",
       "      <th>std</th>\n",
       "      <td>12.820151</td>\n",
       "    </tr>\n",
       "    <tr>\n",
       "      <th>min</th>\n",
       "      <td>1960.000000</td>\n",
       "    </tr>\n",
       "    <tr>\n",
       "      <th>25%</th>\n",
       "      <td>1995.000000</td>\n",
       "    </tr>\n",
       "    <tr>\n",
       "      <th>50%</th>\n",
       "      <td>2006.000000</td>\n",
       "    </tr>\n",
       "    <tr>\n",
       "      <th>75%</th>\n",
       "      <td>2011.000000</td>\n",
       "    </tr>\n",
       "    <tr>\n",
       "      <th>max</th>\n",
       "      <td>2015.000000</td>\n",
       "    </tr>\n",
       "  </tbody>\n",
       "</table>\n",
       "</div>"
      ],
      "text/plain": [
       "       release_year\n",
       "count  10731.000000\n",
       "mean    2001.259622\n",
       "std       12.820151\n",
       "min     1960.000000\n",
       "25%     1995.000000\n",
       "50%     2006.000000\n",
       "75%     2011.000000\n",
       "max     2015.000000"
      ]
     },
     "execution_count": 506,
     "metadata": {},
     "output_type": "execute_result"
    }
   ],
   "source": [
    "limit"
   ]
  },
  {
   "cell_type": "code",
   "execution_count": null,
   "id": "15404ba6",
   "metadata": {},
   "outputs": [],
   "source": []
  }
 ],
 "metadata": {
  "kernelspec": {
   "display_name": "Python 3",
   "language": "python",
   "name": "python3"
  },
  "language_info": {
   "codemirror_mode": {
    "name": "ipython",
    "version": 3
   },
   "file_extension": ".py",
   "mimetype": "text/x-python",
   "name": "python",
   "nbconvert_exporter": "python",
   "pygments_lexer": "ipython3",
   "version": "3.8.8"
  }
 },
 "nbformat": 4,
 "nbformat_minor": 5
}
